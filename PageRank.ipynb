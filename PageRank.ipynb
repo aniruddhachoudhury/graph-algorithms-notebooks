{
 "cells": [
  {
   "cell_type": "code",
   "execution_count": 27,
   "metadata": {},
   "outputs": [],
   "source": [
    "from neo4j.v1 import GraphDatabase, basic_auth\n",
    "import pandas as pd"
   ]
  },
  {
   "cell_type": "code",
   "execution_count": 7,
   "metadata": {},
   "outputs": [],
   "source": [
    "driver = GraphDatabase.driver(\"bolt://34.207.189.97:33619\", auth=basic_auth(\"neo4j\", \"gulfs-possibility-contribution\"))"
   ]
  },
  {
   "cell_type": "code",
   "execution_count": 21,
   "metadata": {},
   "outputs": [
    {
     "name": "stdout",
     "output_type": "stream",
     "text": [
      "{'labels-added': 8, 'relationships-created': 14, 'nodes-created': 8, 'properties-set': 8}\n"
     ]
    }
   ],
   "source": [
    "create_links_graph_query = \"\"\"\\\n",
    "CREATE (home:Page{name:'Home'})\n",
    ",(about:Page{name:'About'})\n",
    ",(product:Page{name:'Product'})\n",
    ",(links:Page{name:'Links'})\n",
    ",(a:Page{name:'Site A'})\n",
    ",(b:Page{name:'Site B'})\n",
    ",(c:Page{name:'Site C'})\n",
    ",(d:Page{name:'Site D'})\n",
    "\n",
    "CREATE (home)-[:LINKS]->(about)\n",
    ",(about)-[:LINKS]->(home)\n",
    ",(product)-[:LINKS]->(home)\n",
    ",(home)-[:LINKS]->(product)\n",
    ",(links)-[:LINKS]->(home)\n",
    ",(home)-[:LINKS]->(links)\n",
    ",(links)-[:LINKS]->(a)-[:LINKS]->(home)\n",
    ",(links)-[:LINKS]->(b)-[:LINKS]->(home)\n",
    ",(links)-[:LINKS]->(c)-[:LINKS]->(home)\n",
    ",(links)-[:LINKS]->(d)-[:LINKS]->(home)\n",
    "\"\"\"\n",
    "\n",
    "with driver.session() as session:\n",
    "    result = session.write_transaction(lambda tx: tx.run(create_links_graph_query))\n",
    "    print(result.consume().metadata[\"stats\"])"
   ]
  },
  {
   "cell_type": "code",
   "execution_count": 35,
   "metadata": {},
   "outputs": [],
   "source": [
    "streaming_query = \"\"\"\\\n",
    "CALL algo.pageRank.stream('Page', 'LINKS', {iterations:20, dampingFactor:0.85})\n",
    "YIELD node, score\n",
    "RETURN node.name as page,score \n",
    "ORDER BY score DESC\n",
    "LIMIT 20\n",
    "\"\"\"\n",
    "\n",
    "with driver.session() as session:\n",
    "    result = session.read_transaction(lambda tx: tx.run(streaming_query))        \n",
    "    df = pd.DataFrame([dict(zip(r.keys(), r.values())) for r in result])    "
   ]
  },
  {
   "cell_type": "code",
   "execution_count": 36,
   "metadata": {},
   "outputs": [
    {
     "data": {
      "text/html": [
       "<div>\n",
       "<style scoped>\n",
       "    .dataframe tbody tr th:only-of-type {\n",
       "        vertical-align: middle;\n",
       "    }\n",
       "\n",
       "    .dataframe tbody tr th {\n",
       "        vertical-align: top;\n",
       "    }\n",
       "\n",
       "    .dataframe thead th {\n",
       "        text-align: right;\n",
       "    }\n",
       "</style>\n",
       "<table border=\"1\" class=\"dataframe\">\n",
       "  <thead>\n",
       "    <tr style=\"text-align: right;\">\n",
       "      <th></th>\n",
       "      <th>page</th>\n",
       "      <th>score</th>\n",
       "    </tr>\n",
       "  </thead>\n",
       "  <tbody>\n",
       "    <tr>\n",
       "      <th>0</th>\n",
       "      <td>Home</td>\n",
       "      <td>3.233877</td>\n",
       "    </tr>\n",
       "    <tr>\n",
       "      <th>1</th>\n",
       "      <td>About</td>\n",
       "      <td>1.060435</td>\n",
       "    </tr>\n",
       "    <tr>\n",
       "      <th>2</th>\n",
       "      <td>Product</td>\n",
       "      <td>1.060435</td>\n",
       "    </tr>\n",
       "    <tr>\n",
       "      <th>3</th>\n",
       "      <td>Links</td>\n",
       "      <td>1.060435</td>\n",
       "    </tr>\n",
       "    <tr>\n",
       "      <th>4</th>\n",
       "      <td>Site A</td>\n",
       "      <td>0.329035</td>\n",
       "    </tr>\n",
       "    <tr>\n",
       "      <th>5</th>\n",
       "      <td>Site B</td>\n",
       "      <td>0.329035</td>\n",
       "    </tr>\n",
       "    <tr>\n",
       "      <th>6</th>\n",
       "      <td>Site C</td>\n",
       "      <td>0.329035</td>\n",
       "    </tr>\n",
       "    <tr>\n",
       "      <th>7</th>\n",
       "      <td>Site D</td>\n",
       "      <td>0.329035</td>\n",
       "    </tr>\n",
       "  </tbody>\n",
       "</table>\n",
       "</div>"
      ],
      "text/plain": [
       "      page     score\n",
       "0     Home  3.233877\n",
       "1    About  1.060435\n",
       "2  Product  1.060435\n",
       "3    Links  1.060435\n",
       "4   Site A  0.329035\n",
       "5   Site B  0.329035\n",
       "6   Site C  0.329035\n",
       "7   Site D  0.329035"
      ]
     },
     "execution_count": 36,
     "metadata": {},
     "output_type": "execute_result"
    }
   ],
   "source": [
    "df"
   ]
  },
  {
   "cell_type": "code",
   "execution_count": 40,
   "metadata": {},
   "outputs": [
    {
     "data": {
      "text/html": [
       "<div>\n",
       "<style scoped>\n",
       "    .dataframe tbody tr th:only-of-type {\n",
       "        vertical-align: middle;\n",
       "    }\n",
       "\n",
       "    .dataframe tbody tr th {\n",
       "        vertical-align: top;\n",
       "    }\n",
       "\n",
       "    .dataframe thead th {\n",
       "        text-align: right;\n",
       "    }\n",
       "</style>\n",
       "<table border=\"1\" class=\"dataframe\">\n",
       "  <thead>\n",
       "    <tr style=\"text-align: right;\">\n",
       "      <th></th>\n",
       "      <th>computeMillis</th>\n",
       "      <th>dampingFactor</th>\n",
       "      <th>iterations</th>\n",
       "      <th>loadMillis</th>\n",
       "      <th>nodes</th>\n",
       "      <th>write</th>\n",
       "      <th>writeMillis</th>\n",
       "      <th>writeProperty</th>\n",
       "    </tr>\n",
       "  </thead>\n",
       "  <tbody>\n",
       "    <tr>\n",
       "      <th>0</th>\n",
       "      <td>0</td>\n",
       "      <td>0.85</td>\n",
       "      <td>20</td>\n",
       "      <td>1</td>\n",
       "      <td>8</td>\n",
       "      <td>True</td>\n",
       "      <td>0</td>\n",
       "      <td>pagerank</td>\n",
       "    </tr>\n",
       "  </tbody>\n",
       "</table>\n",
       "</div>"
      ],
      "text/plain": [
       "   computeMillis  dampingFactor  iterations  loadMillis  nodes  write  \\\n",
       "0              0           0.85          20           1      8   True   \n",
       "\n",
       "   writeMillis writeProperty  \n",
       "0            0      pagerank  "
      ]
     },
     "execution_count": 40,
     "metadata": {},
     "output_type": "execute_result"
    }
   ],
   "source": [
    "write_results_query = \"\"\"\\\n",
    "CALL algo.pageRank('Page', 'LINKS', {iterations:20, dampingFactor:0.85, write: true,writeProperty:\"pagerank\"})\n",
    "YIELD nodes, iterations, loadMillis, computeMillis, writeMillis, dampingFactor, write, writeProperty\n",
    "\"\"\"\n",
    "\n",
    "with driver.session() as session:\n",
    "    result = session.read_transaction(lambda tx: tx.run(write_results_query))        \n",
    "    df = pd.DataFrame([dict(zip(r.keys(), r.values())) for r in result])\n",
    "\n",
    "df"
   ]
  }
 ],
 "metadata": {
  "kernelspec": {
   "display_name": "Python 3",
   "language": "python",
   "name": "python3"
  },
  "language_info": {
   "codemirror_mode": {
    "name": "ipython",
    "version": 3
   },
   "file_extension": ".py",
   "mimetype": "text/x-python",
   "name": "python",
   "nbconvert_exporter": "python",
   "pygments_lexer": "ipython3",
   "version": "3.6.0"
  }
 },
 "nbformat": 4,
 "nbformat_minor": 2
}
