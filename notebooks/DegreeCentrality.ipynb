{
 "cells": [
  {
   "cell_type": "markdown",
   "metadata": {},
   "source": [
    "# Degree Centrality\n",
    "Degree Centrality is the simplest of all the centrality algorithms.\n",
    "It measures the number of incoming and outgoing relationships from a node.\n",
    "\n",
    "The algorithm can help us find popular nodes in a graph.\n",
    "\n",
    "First we'll import the Neo4j driver and Pandas libraries:\n"
   ]
  },
  {
   "cell_type": "code",
   "execution_count": 1,
   "metadata": {},
   "outputs": [],
   "source": [
    "from neo4j.v1 import GraphDatabase, basic_auth\n",
    "import pandas as pd\n",
    "import os"
   ]
  },
  {
   "cell_type": "markdown",
   "metadata": {},
   "source": [
    "Next let's create an instance of the Neo4j driver which we'll use to execute our queries.\n"
   ]
  },
  {
   "cell_type": "code",
   "execution_count": 2,
   "metadata": {},
   "outputs": [],
   "source": [
    "host = os.environ.get(\"NEO4J_HOST\", \"bolt://localhost\") \n",
    "user = os.environ.get(\"NEO4J_USER\", \"neo4j\")\n",
    "password = os.environ.get(\"NEO4J_PASSWORD\", \"neo\")\n",
    "driver = GraphDatabase.driver(host, auth=basic_auth(user, password))"
   ]
  },
  {
   "cell_type": "markdown",
   "metadata": {},
   "source": [
    "Now let's create a sample graph that we'll run the algorithm against.\n"
   ]
  },
  {
   "cell_type": "code",
   "execution_count": 3,
   "metadata": {},
   "outputs": [
    {
     "name": "stdout",
     "output_type": "stream",
     "text": [
      "Stats: {}\n"
     ]
    }
   ],
   "source": [
    "create_graph_query = '''\n",
    "MERGE (nAlice:User {id:'Alice'})\n",
    "MERGE (nBridget:User {id:'Bridget'})\n",
    "MERGE (nCharles:User {id:'Charles'})\n",
    "MERGE (nDoug:User {id:'Doug'})\n",
    "MERGE (nMark:User {id:'Mark'})\n",
    "MERGE (nMichael:User {id:'Michael'})\n",
    "\n",
    "MERGE (nAlice)-[:FOLLOWS]->(nDoug)\n",
    "MERGE (nAlice)-[:FOLLOWS]->(nBridget)\n",
    "MERGE (nAlice)-[:FOLLOWS]->(nCharles)\n",
    "MERGE (nMark)-[:FOLLOWS]->(nDoug)\n",
    "MERGE (nMark)-[:FOLLOWS]->(nMichael)\n",
    "MERGE (nBridget)-[:FOLLOWS]->(nDoug)\n",
    "MERGE (nCharles)-[:FOLLOWS]->(nDoug)\n",
    "MERGE (nMichael)-[:FOLLOWS]->(nDoug)\n",
    "'''\n",
    "\n",
    "with driver.session() as session:\n",
    "    result = session.write_transaction(lambda tx: tx.run(create_graph_query))\n",
    "    print(\"Stats: \" + str(result.consume().metadata.get(\"stats\", {})))"
   ]
  },
  {
   "cell_type": "markdown",
   "metadata": {},
   "source": [
    "Finally we can run the algorithm by executing the following query:\n"
   ]
  },
  {
   "cell_type": "code",
   "execution_count": 4,
   "metadata": {},
   "outputs": [
    {
     "data": {
      "text/html": [
       "<div>\n",
       "<style scoped>\n",
       "    .dataframe tbody tr th:only-of-type {\n",
       "        vertical-align: middle;\n",
       "    }\n",
       "\n",
       "    .dataframe tbody tr th {\n",
       "        vertical-align: top;\n",
       "    }\n",
       "\n",
       "    .dataframe thead th {\n",
       "        text-align: right;\n",
       "    }\n",
       "</style>\n",
       "<table border=\"1\" class=\"dataframe\">\n",
       "  <thead>\n",
       "    <tr style=\"text-align: right;\">\n",
       "      <th></th>\n",
       "      <th>name</th>\n",
       "      <th>follows</th>\n",
       "      <th>followers</th>\n",
       "    </tr>\n",
       "  </thead>\n",
       "  <tbody>\n",
       "    <tr>\n",
       "      <th>0</th>\n",
       "      <td>Alice</td>\n",
       "      <td>3</td>\n",
       "      <td>0</td>\n",
       "    </tr>\n",
       "    <tr>\n",
       "      <th>1</th>\n",
       "      <td>Bridget</td>\n",
       "      <td>1</td>\n",
       "      <td>1</td>\n",
       "    </tr>\n",
       "    <tr>\n",
       "      <th>2</th>\n",
       "      <td>Charles</td>\n",
       "      <td>1</td>\n",
       "      <td>1</td>\n",
       "    </tr>\n",
       "    <tr>\n",
       "      <th>3</th>\n",
       "      <td>Doug</td>\n",
       "      <td>0</td>\n",
       "      <td>5</td>\n",
       "    </tr>\n",
       "    <tr>\n",
       "      <th>4</th>\n",
       "      <td>Mark</td>\n",
       "      <td>2</td>\n",
       "      <td>0</td>\n",
       "    </tr>\n",
       "    <tr>\n",
       "      <th>5</th>\n",
       "      <td>Michael</td>\n",
       "      <td>1</td>\n",
       "      <td>1</td>\n",
       "    </tr>\n",
       "  </tbody>\n",
       "</table>\n",
       "</div>"
      ],
      "text/plain": [
       "      name  follows  followers\n",
       "0    Alice        3          0\n",
       "1  Bridget        1          1\n",
       "2  Charles        1          1\n",
       "3     Doug        0          5\n",
       "4     Mark        2          0\n",
       "5  Michael        1          1"
      ]
     },
     "execution_count": 4,
     "metadata": {},
     "output_type": "execute_result"
    }
   ],
   "source": [
    "streaming_query = \"\"\"\n",
    "MATCH (u:User)\n",
    "RETURN u.id AS name,\n",
    "       size((u)-[:FOLLOWS]->()) AS follows,\n",
    "       size((u)<-[:FOLLOWS]-()) AS followers\n",
    "\"\"\"\n",
    "\n",
    "with driver.session() as session:\n",
    "    result = session.read_transaction(lambda tx: tx.run(streaming_query))        \n",
    "    df = pd.DataFrame([r.values() for r in result], columns=result.keys())\n",
    "\n",
    "df"
   ]
  },
  {
   "cell_type": "markdown",
   "metadata": {},
   "source": [
    "We can see that Doug is the most popular user in our imaginary Twitter graph with 5 followers - all other users follow him but he doesn't follow anybody back.\n",
    "In the real Twitter network celebrities have very high follower counts but tend to follow very few back people.\n",
    "We could therefore consider Doug a celebrity!"
   ]
  },
  {
   "cell_type": "markdown",
   "metadata": {},
   "source": [
    "We can also call a version of the algorithm that will store the result as a property on a\n",
    "node. This is useful if we want to run future queries that use the result."
   ]
  },
  {
   "cell_type": "code",
   "execution_count": 5,
   "metadata": {},
   "outputs": [],
   "source": [
    "write_query = \"\"\"\n",
    "MATCH (u:User)\n",
    "set u.followers = size((u)<-[:FOLLOWS]-())\n",
    "\"\"\"\n",
    "\n",
    "with driver.session() as session:\n",
    "    session.write_transaction(lambda tx: tx.run(write_query))"
   ]
  },
  {
   "cell_type": "markdown",
   "metadata": {},
   "source": [
    "## Graph Visualisation\n",
    "\n",
    "Sometimes a picture can tell more than a table of results and this is often the case with graph algorithms. \n",
    "Let's see how to create a graph visualization using neovis.js.\n",
    "\n",
    "First we'll create a div into which we will generate the visualisation."
   ]
  },
  {
   "cell_type": "code",
   "execution_count": 6,
   "metadata": {},
   "outputs": [
    {
     "data": {
      "text/html": [
       "<style type=\"text/css\">                \n",
       ".output_wrapper, .output {\n",
       "    height:auto !important;\n",
       "    max-height:600px;\n",
       "}\n",
       ".output_scroll {\n",
       "    box-shadow:none !important;\n",
       "    webkit-box-shadow:none !important;\n",
       "}\n",
       "\n",
       "#viz {\n",
       "    width: 300px;\n",
       "    height: 350px;\n",
       "    font: 22pt arial;\n",
       "}\n",
       "</style>  \n",
       "<div id=\"viz\"></div>"
      ],
      "text/plain": [
       "<IPython.core.display.HTML object>"
      ]
     },
     "metadata": {},
     "output_type": "display_data"
    }
   ],
   "source": [
    "%%html\n",
    "<style type=\"text/css\">                \n",
    ".output_wrapper, .output {\n",
    "    height:auto !important;\n",
    "    max-height:600px;\n",
    "}\n",
    ".output_scroll {\n",
    "    box-shadow:none !important;\n",
    "    webkit-box-shadow:none !important;\n",
    "}\n",
    "\n",
    "#viz {\n",
    "    width: 300px;\n",
    "    height: 350px;\n",
    "    font: 22pt arial;\n",
    "}\n",
    "</style>  \n",
    "<div id=\"viz\"></div>"
   ]
  },
  {
   "cell_type": "markdown",
   "metadata": {},
   "source": [
    "Next we need to define the query that the visualization will be generated from, along with config \n",
    "that describes which properties will be used for node size, node colour, and relationship width. \n",
    "\n",
    "We'll then define a JavaScript variable that contains all our parameters."
   ]
  },
  {
   "cell_type": "code",
   "execution_count": 7,
   "metadata": {},
   "outputs": [
    {
     "data": {
      "application/javascript": [
       "window.jsonGraph={\"query\": \"MATCH (p1:User)-[r:FOLLOWS]->(p2:User) RETURN *\", \"labels\": {\"User\": {\"caption\": \"id\", \"size\": \"followers\"}}, \"relationships\": {\"FOLLOWS\": {\"thickness\": \"weight\", \"caption\": false}}, \"host\": \"bolt://localhost\", \"user\": \"neo4j\", \"password\": \"neo\"};"
      ],
      "text/plain": [
       "<IPython.core.display.Javascript object>"
      ]
     },
     "execution_count": 7,
     "metadata": {},
     "output_type": "execute_result"
    }
   ],
   "source": [
    "from IPython.core.display import Javascript\n",
    "import json\n",
    "from scripts.algo import viz_config, render_image\n",
    "\n",
    "config = viz_config(\"Degree Centrality\")\n",
    "query = config[\"query\"]\n",
    "labels_json = config[\"labels_json\"]\n",
    "relationships_json = config[\"relationships_json\"]\n",
    "\n",
    "json_graph = {\n",
    "    \"query\": query,\n",
    "    \"labels\": labels_json,\n",
    "    \"relationships\": relationships_json,\n",
    "    \"host\": host,\n",
    "    \"user\": user,\n",
    "    \"password\": password\n",
    "}\n",
    "\n",
    "Javascript(\"\"\"window.jsonGraph={};\"\"\".format(json.dumps(json_graph)))"
   ]
  },
  {
   "cell_type": "markdown",
   "metadata": {},
   "source": [
    "Now we're ready to call neovis.js and generate our graph visualisation. \n",
    "The following code will create an interactive graph into the div defined above.\n",
    "It will also extract an image representation of the graph and display that in the cell below."
   ]
  },
  {
   "cell_type": "code",
   "execution_count": 8,
   "metadata": {},
   "outputs": [
    {
     "data": {
      "application/javascript": [
       "var output_area = this;\n",
       "requirejs(['neovis.js'], function(NeoVis){    \n",
       "    var config = {\n",
       "      container_id: \"viz\",\n",
       "      server_url: window.jsonGraph.host,\n",
       "      server_user: window.jsonGraph.user,\n",
       "      server_password: window.jsonGraph.password,\n",
       "      labels: window.jsonGraph.labels,\n",
       "      relationships: window.jsonGraph.relationships,\n",
       "      initial_cypher: window.jsonGraph.query\n",
       "    };\n",
       "        \n",
       "    let viz = new NeoVis.default(config);\n",
       "    viz.render();\n",
       "    \n",
       "    viz.onVisualizationRendered(function(ctx) {\n",
       "      let imageSrc = ctx.canvas.toDataURL();\n",
       "      let kernel = IPython.notebook.kernel;\n",
       "      let command = \"image_src = '\" + imageSrc + \"'\";\n",
       "      kernel.execute(command);\n",
       "      \n",
       "      var cell_element = output_area.element.parents('.cell');\n",
       "      var cell_idx = Jupyter.notebook.get_cell_elements().index(cell_element);\n",
       "      var cell = Jupyter.notebook.get_cell(cell_idx+1);\n",
       "      cell.set_text(\"render_image(image_src)\")\n",
       "      cell.execute();\n",
       "    });\n",
       "});"
      ],
      "text/plain": [
       "<IPython.core.display.Javascript object>"
      ]
     },
     "metadata": {},
     "output_type": "display_data"
    }
   ],
   "source": [
    "%%javascript\n",
    "var output_area = this;\n",
    "requirejs(['neovis.js'], function(NeoVis){    \n",
    "    var config = {\n",
    "      container_id: \"viz\",\n",
    "      server_url: window.jsonGraph.host,\n",
    "      server_user: window.jsonGraph.user,\n",
    "      server_password: window.jsonGraph.password,\n",
    "      labels: window.jsonGraph.labels,\n",
    "      relationships: window.jsonGraph.relationships,\n",
    "      initial_cypher: window.jsonGraph.query\n",
    "    };\n",
    "        \n",
    "    let viz = new NeoVis.default(config);\n",
    "    viz.render();\n",
    "    \n",
    "    viz.onVisualizationRendered(function(ctx) {\n",
    "      let imageSrc = ctx.canvas.toDataURL();\n",
    "      let kernel = IPython.notebook.kernel;\n",
    "      let command = \"image_src = '\" + imageSrc + \"'\";\n",
    "      kernel.execute(command);\n",
    "      \n",
    "      var cell_element = output_area.element.parents('.cell');\n",
    "      var cell_idx = Jupyter.notebook.get_cell_elements().index(cell_element);\n",
    "      var cell = Jupyter.notebook.get_cell(cell_idx+1);\n",
    "      cell.set_text(\"render_image(image_src)\")\n",
    "      cell.execute();\n",
    "    });\n",
    "});"
   ]
  },
  {
   "cell_type": "code",
   "execution_count": 11,
   "metadata": {},
   "outputs": [
    {
     "data": {
      "text/html": [
       "<img id=\"viz-image\" width=\"300px\" src=\"data:image/png;base64,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\" />"
      ],
      "text/plain": [
       "<IPython.core.display.HTML object>"
      ]
     },
     "execution_count": 11,
     "metadata": {},
     "output_type": "execute_result"
    }
   ],
   "source": [
    "render_image(image_src)"
   ]
  }
 ],
 "metadata": {
  "kernelspec": {
   "display_name": "Python 3",
   "language": "python",
   "name": "python3"
  },
  "language_info": {
   "codemirror_mode": {
    "name": "ipython",
    "version": 3
   },
   "file_extension": ".py",
   "mimetype": "text/x-python",
   "name": "python",
   "nbconvert_exporter": "python",
   "pygments_lexer": "ipython3",
   "version": "3.6.0"
  }
 },
 "nbformat": 4,
 "nbformat_minor": 2
}
