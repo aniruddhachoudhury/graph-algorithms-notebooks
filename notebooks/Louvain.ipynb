{
 "cells": [
  {
   "cell_type": "markdown",
   "metadata": {},
   "source": [
    "# Louvain\n",
    "The _Louvain_ method of community detection is an algorithm for detecting communities in networks that relies upon a heuristic for maximizing the modularity.\n",
    "Communities are groups of nodes within a network that are more densely connected to one another than to other nodes. \n",
    "A typical heuristic would be modularity, which quantifies the quality of an assignment of nodes to communities by evaluating how much more densely connected the nodes within a community are compared to how connected they would be in a random network.\n",
    "\n",
    "The method consists of repeated application of two steps. \n",
    "The first step is a \"greedy\" assignment of nodes to communities, favoring local optimizations of modularity. \n",
    "The second step is the definition of a new coarse-grained network based on the communities found in the first step.\n",
    "These two steps are repeated until no further modularity-increasing reassignments of communities are possible.\n",
    "\n",
    "The _Louvain_ method achieves modularities comparable to pre-existing algorithms, typically in less time, so it enables the study of much larger networks.\n",
    "It also reveals a hierarchy of communities at different scales, and this hierarchical perspective can be useful for understanding the global functioning of a network.\n",
    "While there are pitfalls to interpreting the community structure uncovered by the Louvain Method, these difficulties are shared by all modularity optimization algorithms.[2]\n",
    "\n",
    "First we'll import the Neo4j driver and Pandas libraries:\n"
   ]
  },
  {
   "cell_type": "code",
   "execution_count": 1,
   "metadata": {},
   "outputs": [],
   "source": [
    "from neo4j.v1 import GraphDatabase, basic_auth\n",
    "import pandas as pd\n",
    "import os"
   ]
  },
  {
   "cell_type": "markdown",
   "metadata": {},
   "source": [
    "Next let's create an instance of the Neo4j driver which we'll use to execute our queries.\n"
   ]
  },
  {
   "cell_type": "code",
   "execution_count": 2,
   "metadata": {},
   "outputs": [],
   "source": [
    "host = os.environ.get(\"NEO4J_HOST\", \"bolt://localhost\") \n",
    "user = os.environ.get(\"NEO4J_USER\", \"neo4j\")\n",
    "password = os.environ.get(\"NEO4J_PASSWORD\", \"neo\")\n",
    "driver = GraphDatabase.driver(host, auth=basic_auth(user, password))"
   ]
  },
  {
   "cell_type": "markdown",
   "metadata": {},
   "source": [
    "Now let's create a sample graph that we'll run the algorithm against.\n"
   ]
  },
  {
   "cell_type": "code",
   "execution_count": 3,
   "metadata": {},
   "outputs": [
    {
     "name": "stdout",
     "output_type": "stream",
     "text": [
      "Stats: {'labels-added': 6, 'relationships-created': 7, 'nodes-created': 6, 'properties-set': 6}\n"
     ]
    }
   ],
   "source": [
    "create_graph_query = '''\n",
    "CREATE (nAlice:User {id:'Alice'})\n",
    ",(nBridget:User {id:'Bridget'})\n",
    ",(nCharles:User {id:'Charles'})\n",
    ",(nDoug:User {id:'Doug'})\n",
    ",(nMark:User {id:'Mark'})\n",
    ",(nMichael:User {id:'Michael'})\n",
    "CREATE (nAlice)-[:FRIEND]->(nBridget)\n",
    ",(nAlice)-[:FRIEND]->(nCharles)\n",
    ",(nMark)-[:FRIEND]->(nDoug)\n",
    ",(nBridget)-[:FRIEND]->(nMichael)\n",
    ",(nCharles)-[:FRIEND]->(nMark)\n",
    ",(nAlice)-[:FRIEND]->(nMichael)\n",
    ",(nCharles)-[:FRIEND]->(nDoug);\n",
    "'''\n",
    "\n",
    "with driver.session() as session:\n",
    "    result = session.write_transaction(lambda tx: tx.run(create_graph_query))\n",
    "    print(\"Stats: \" + str(result.consume().metadata.get(\"stats\", {})))"
   ]
  },
  {
   "cell_type": "markdown",
   "metadata": {},
   "source": [
    "Finally we can run the algorithm by executing the following query:\n"
   ]
  },
  {
   "cell_type": "code",
   "execution_count": 4,
   "metadata": {},
   "outputs": [
    {
     "data": {
      "text/html": [
       "<div>\n",
       "<style scoped>\n",
       "    .dataframe tbody tr th:only-of-type {\n",
       "        vertical-align: middle;\n",
       "    }\n",
       "\n",
       "    .dataframe tbody tr th {\n",
       "        vertical-align: top;\n",
       "    }\n",
       "\n",
       "    .dataframe thead th {\n",
       "        text-align: right;\n",
       "    }\n",
       "</style>\n",
       "<table border=\"1\" class=\"dataframe\">\n",
       "  <thead>\n",
       "    <tr style=\"text-align: right;\">\n",
       "      <th></th>\n",
       "      <th>user</th>\n",
       "      <th>community</th>\n",
       "    </tr>\n",
       "  </thead>\n",
       "  <tbody>\n",
       "    <tr>\n",
       "      <th>0</th>\n",
       "      <td>Michael</td>\n",
       "      <td>1</td>\n",
       "    </tr>\n",
       "    <tr>\n",
       "      <th>1</th>\n",
       "      <td>Alice</td>\n",
       "      <td>1</td>\n",
       "    </tr>\n",
       "    <tr>\n",
       "      <th>2</th>\n",
       "      <td>Bridget</td>\n",
       "      <td>1</td>\n",
       "    </tr>\n",
       "    <tr>\n",
       "      <th>3</th>\n",
       "      <td>Charles</td>\n",
       "      <td>3</td>\n",
       "    </tr>\n",
       "    <tr>\n",
       "      <th>4</th>\n",
       "      <td>Doug</td>\n",
       "      <td>3</td>\n",
       "    </tr>\n",
       "    <tr>\n",
       "      <th>5</th>\n",
       "      <td>Mark</td>\n",
       "      <td>3</td>\n",
       "    </tr>\n",
       "  </tbody>\n",
       "</table>\n",
       "</div>"
      ],
      "text/plain": [
       "      user  community\n",
       "0  Michael          1\n",
       "1    Alice          1\n",
       "2  Bridget          1\n",
       "3  Charles          3\n",
       "4     Doug          3\n",
       "5     Mark          3"
      ]
     },
     "execution_count": 4,
     "metadata": {},
     "output_type": "execute_result"
    }
   ],
   "source": [
    "streaming_query = \"\"\"\n",
    "CALL algo.louvain.stream('User', 'FRIEND', {})\n",
    "YIELD nodeId, community\n",
    "\n",
    "MATCH (user:User) WHERE id(user) = nodeId\n",
    "\n",
    "RETURN user.id AS user, community\n",
    "LIMIT 20;\n",
    "\"\"\"\n",
    "\n",
    "with driver.session() as session:\n",
    "    result = session.read_transaction(lambda tx: tx.run(streaming_query))        \n",
    "    df = pd.DataFrame([r.values() for r in result], columns=result.keys())\n",
    "\n",
    "df"
   ]
  },
  {
   "cell_type": "markdown",
   "metadata": {},
   "source": []
  }
 ],
 "metadata": {},
 "nbformat": 4,
 "nbformat_minor": 2
}
