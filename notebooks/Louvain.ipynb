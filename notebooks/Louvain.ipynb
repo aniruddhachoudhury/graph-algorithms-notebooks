{
 "cells": [
  {
   "cell_type": "markdown",
   "metadata": {},
   "source": [
    "# Louvain\n",
    "The _Louvain_ method of community detection is an algorithm for detecting communities in networks.\n",
    "It maximizes a modularity score for each community, where the modularity quantifies the quality of an assignment of nodes to communities by evaluating how much more densely connected the nodes within a community are compared to how connected they would be in a random network.\n",
    "\n",
    "The _Louvain_ algorithm is one of the fastest modularity based algorithms and works well with large graphs.\n",
    "It also reveals a hierarchy of communities at different scales, which can be useful for understanding the global functioning of a network.\n",
    "\n",
    "First we'll import the Neo4j driver and Pandas libraries:\n"
   ]
  },
  {
   "cell_type": "code",
   "execution_count": 1,
   "metadata": {},
   "outputs": [],
   "source": [
    "from neo4j.v1 import GraphDatabase, basic_auth\n",
    "import pandas as pd\n",
    "import os"
   ]
  },
  {
   "cell_type": "markdown",
   "metadata": {},
   "source": [
    "Next let's create an instance of the Neo4j driver which we'll use to execute our queries.\n"
   ]
  },
  {
   "cell_type": "code",
   "execution_count": 2,
   "metadata": {},
   "outputs": [],
   "source": [
    "host = os.environ.get(\"NEO4J_HOST\", \"bolt://localhost\") \n",
    "user = os.environ.get(\"NEO4J_USER\", \"neo4j\")\n",
    "password = os.environ.get(\"NEO4J_PASSWORD\", \"neo\")\n",
    "driver = GraphDatabase.driver(host, auth=basic_auth(user, password))"
   ]
  },
  {
   "cell_type": "markdown",
   "metadata": {},
   "source": [
    "Now let's create a sample graph that we'll run the algorithm against.\n"
   ]
  },
  {
   "cell_type": "code",
   "execution_count": 3,
   "metadata": {},
   "outputs": [
    {
     "name": "stdout",
     "output_type": "stream",
     "text": [
      "Stats: {'relationships-created': 7}\n"
     ]
    }
   ],
   "source": [
    "create_graph_query = '''\n",
    "MERGE (nAlice:User {id:'Alice'})\n",
    "MERGE (nBridget:User {id:'Bridget'})\n",
    "MERGE (nCharles:User {id:'Charles'})\n",
    "MERGE (nDoug:User {id:'Doug'})\n",
    "MERGE (nMark:User {id:'Mark'})\n",
    "MERGE (nMichael:User {id:'Michael'})\n",
    "\n",
    "MERGE (nAlice)-[:FRIEND]->(nBridget)\n",
    "MERGE (nAlice)-[:FRIEND]->(nCharles)\n",
    "MERGE (nMark)-[:FRIEND]->(nDoug)\n",
    "MERGE (nBridget)-[:FRIEND]->(nMichael)\n",
    "MERGE (nCharles)-[:FRIEND]->(nMark)\n",
    "MERGE (nAlice)-[:FRIEND]->(nMichael)\n",
    "MERGE (nCharles)-[:FRIEND]->(nDoug);\n",
    "'''\n",
    "\n",
    "with driver.session() as session:\n",
    "    result = session.write_transaction(lambda tx: tx.run(create_graph_query))\n",
    "    print(\"Stats: \" + str(result.consume().metadata.get(\"stats\", {})))"
   ]
  },
  {
   "cell_type": "markdown",
   "metadata": {},
   "source": [
    "Finally we can run the algorithm by executing the following query:\n"
   ]
  },
  {
   "cell_type": "code",
   "execution_count": 4,
   "metadata": {},
   "outputs": [
    {
     "data": {
      "text/html": [
       "<div>\n",
       "<style scoped>\n",
       "    .dataframe tbody tr th:only-of-type {\n",
       "        vertical-align: middle;\n",
       "    }\n",
       "\n",
       "    .dataframe tbody tr th {\n",
       "        vertical-align: top;\n",
       "    }\n",
       "\n",
       "    .dataframe thead th {\n",
       "        text-align: right;\n",
       "    }\n",
       "</style>\n",
       "<table border=\"1\" class=\"dataframe\">\n",
       "  <thead>\n",
       "    <tr style=\"text-align: right;\">\n",
       "      <th></th>\n",
       "      <th>user</th>\n",
       "      <th>community</th>\n",
       "    </tr>\n",
       "  </thead>\n",
       "  <tbody>\n",
       "    <tr>\n",
       "      <th>0</th>\n",
       "      <td>Alice</td>\n",
       "      <td>0</td>\n",
       "    </tr>\n",
       "    <tr>\n",
       "      <th>1</th>\n",
       "      <td>Bridget</td>\n",
       "      <td>0</td>\n",
       "    </tr>\n",
       "    <tr>\n",
       "      <th>2</th>\n",
       "      <td>Charles</td>\n",
       "      <td>0</td>\n",
       "    </tr>\n",
       "    <tr>\n",
       "      <th>3</th>\n",
       "      <td>Doug</td>\n",
       "      <td>0</td>\n",
       "    </tr>\n",
       "    <tr>\n",
       "      <th>4</th>\n",
       "      <td>Mark</td>\n",
       "      <td>0</td>\n",
       "    </tr>\n",
       "    <tr>\n",
       "      <th>5</th>\n",
       "      <td>Michael</td>\n",
       "      <td>0</td>\n",
       "    </tr>\n",
       "  </tbody>\n",
       "</table>\n",
       "</div>"
      ],
      "text/plain": [
       "      user  community\n",
       "0    Alice          0\n",
       "1  Bridget          0\n",
       "2  Charles          0\n",
       "3     Doug          0\n",
       "4     Mark          0\n",
       "5  Michael          0"
      ]
     },
     "execution_count": 4,
     "metadata": {},
     "output_type": "execute_result"
    }
   ],
   "source": [
    "streaming_query = \"\"\"\n",
    "CALL algo.louvain.stream('User', 'FRIEND', {})\n",
    "YIELD nodeId, community\n",
    "\n",
    "MATCH (user:User) WHERE id(user) = nodeId\n",
    "\n",
    "RETURN user.id AS user, community\n",
    "ORDER BY community;\n",
    "\"\"\"\n",
    "\n",
    "with driver.session() as session:\n",
    "    result = session.read_transaction(lambda tx: tx.run(streaming_query))        \n",
    "    df = pd.DataFrame([r.values() for r in result], columns=result.keys())\n",
    "\n",
    "df"
   ]
  },
  {
   "cell_type": "markdown",
   "metadata": {},
   "source": [
    "Our algorithm found two communities with 3 members each.\n",
    "Mark, Doug, and Charles are all friends with each other, as are Bridget, Alice, and Michael.\n",
    "Charles is the only one who has friends in both communities but he has more in community 4 so he fits better in that one."
   ]
  },
  {
   "cell_type": "markdown",
   "metadata": {},
   "source": [
    "We can also call a version of the algorithm that will store the result as a property on a\n",
    "node. This is useful if we want to run future queries that use the result."
   ]
  },
  {
   "cell_type": "code",
   "execution_count": 5,
   "metadata": {},
   "outputs": [],
   "source": [
    "write_query = \"\"\"\n",
    "CALL algo.louvain('User', 'FRIEND',\n",
    "  {write:true, writeProperty:'community'})\n",
    "YIELD nodes, communityCount, iterations, loadMillis, computeMillis, writeMillis;\n",
    "\"\"\"\n",
    "\n",
    "with driver.session() as session:\n",
    "    session.write_transaction(lambda tx: tx.run(write_query))"
   ]
  },
  {
   "cell_type": "markdown",
   "metadata": {},
   "source": [
    "## Graph Visualisation\n",
    "\n",
    "Sometimes a picture can tell more than a table of results and this is often the case with graph algorithms. \n",
    "Let's see how to create a graph visualization using neovis.js.\n",
    "\n",
    "First we'll create a div into which we will generate the visualisation."
   ]
  },
  {
   "cell_type": "code",
   "execution_count": 6,
   "metadata": {},
   "outputs": [
    {
     "data": {
      "text/html": [
       "<style type=\"text/css\">                \n",
       ".output_wrapper, .output {\n",
       "    height:auto !important;\n",
       "    max-height:600px;\n",
       "}\n",
       ".output_scroll {\n",
       "    box-shadow:none !important;\n",
       "    webkit-box-shadow:none !important;\n",
       "}\n",
       "\n",
       "#viz {\n",
       "    width: 300px;\n",
       "    height: 350px;\n",
       "    font: 22pt arial;\n",
       "}\n",
       "</style>  \n",
       "<div id=\"viz\"></div>"
      ],
      "text/plain": [
       "<IPython.core.display.HTML object>"
      ]
     },
     "metadata": {},
     "output_type": "display_data"
    }
   ],
   "source": [
    "%%html\n",
    "<style type=\"text/css\">                \n",
    ".output_wrapper, .output {\n",
    "    height:auto !important;\n",
    "    max-height:600px;\n",
    "}\n",
    ".output_scroll {\n",
    "    box-shadow:none !important;\n",
    "    webkit-box-shadow:none !important;\n",
    "}\n",
    "\n",
    "#viz {\n",
    "    width: 300px;\n",
    "    height: 350px;\n",
    "    font: 22pt arial;\n",
    "}\n",
    "</style>  \n",
    "<div id=\"viz\"></div>"
   ]
  },
  {
   "cell_type": "markdown",
   "metadata": {},
   "source": [
    "Next we need to define the query that the visualization will be generated from, along with config \n",
    "that describes which properties will be used for node size, node colour, and relationship width. \n",
    "\n",
    "We'll then define a JavaScript variable that contains all our parameters."
   ]
  },
  {
   "cell_type": "code",
   "execution_count": 7,
   "metadata": {},
   "outputs": [
    {
     "data": {
      "application/javascript": [
       "window.jsonGraph={\"query\": \"MATCH (p1:User)-[r:FRIEND]->(p2:User) RETURN *\", \"labels\": {\"User\": {\"caption\": \"id\", \"size\": \"centrality\", \"community\": \"community\"}}, \"relationships\": {\"FRIEND\": {\"thickness\": \"weight\", \"caption\": false}}, \"host\": \"bolt://localhost\", \"user\": \"neo4j\", \"password\": \"neo\"};"
      ],
      "text/plain": [
       "<IPython.core.display.Javascript object>"
      ]
     },
     "execution_count": 7,
     "metadata": {},
     "output_type": "execute_result"
    }
   ],
   "source": [
    "from IPython.core.display import Javascript\n",
    "import json\n",
    "from scripts.algo import viz_config, render_image\n",
    "\n",
    "config = viz_config(\"Louvain\")\n",
    "query = config[\"query\"]\n",
    "labels_json = config[\"labels_json\"]\n",
    "relationships_json = config[\"relationships_json\"]\n",
    "\n",
    "json_graph = {\n",
    "    \"query\": query,\n",
    "    \"labels\": labels_json,\n",
    "    \"relationships\": relationships_json,\n",
    "    \"host\": host,\n",
    "    \"user\": user,\n",
    "    \"password\": password\n",
    "}\n",
    "\n",
    "Javascript(\"\"\"window.jsonGraph={};\"\"\".format(json.dumps(json_graph)))"
   ]
  },
  {
   "cell_type": "markdown",
   "metadata": {},
   "source": [
    "Now we're ready to call neovis.js and generate our graph visualisation. \n",
    "The following code will create an interactive graph into the div defined above.\n",
    "It will also extract an image representation of the graph and display that in the cell below."
   ]
  },
  {
   "cell_type": "code",
   "execution_count": 8,
   "metadata": {},
   "outputs": [
    {
     "data": {
      "application/javascript": [
       "var output_area = this;\n",
       "requirejs(['neovis.js'], function(NeoVis){    \n",
       "    var config = {\n",
       "      container_id: \"viz\",\n",
       "      server_url: window.jsonGraph.host,\n",
       "      server_user: window.jsonGraph.user,\n",
       "      server_password: window.jsonGraph.password,\n",
       "      labels: window.jsonGraph.labels,\n",
       "      relationships: window.jsonGraph.relationships,\n",
       "      initial_cypher: window.jsonGraph.query\n",
       "    };\n",
       "        \n",
       "    let viz = new NeoVis.default(config);\n",
       "    viz.render();\n",
       "    \n",
       "    viz.onVisualizationRendered(function(ctx) {\n",
       "      let imageSrc = ctx.canvas.toDataURL();\n",
       "      let kernel = IPython.notebook.kernel;\n",
       "      let command = \"image_src = '\" + imageSrc + \"'\";\n",
       "      kernel.execute(command);\n",
       "      \n",
       "      var cell_element = output_area.element.parents('.cell');\n",
       "      var cell_idx = Jupyter.notebook.get_cell_elements().index(cell_element);\n",
       "      var cell = Jupyter.notebook.get_cell(cell_idx+1);\n",
       "      cell.set_text(\"render_image(image_src)\")\n",
       "      cell.execute();\n",
       "    });\n",
       "});"
      ],
      "text/plain": [
       "<IPython.core.display.Javascript object>"
      ]
     },
     "metadata": {},
     "output_type": "display_data"
    }
   ],
   "source": [
    "%%javascript\n",
    "var output_area = this;\n",
    "requirejs(['neovis.js'], function(NeoVis){    \n",
    "    var config = {\n",
    "      container_id: \"viz\",\n",
    "      server_url: window.jsonGraph.host,\n",
    "      server_user: window.jsonGraph.user,\n",
    "      server_password: window.jsonGraph.password,\n",
    "      labels: window.jsonGraph.labels,\n",
    "      relationships: window.jsonGraph.relationships,\n",
    "      initial_cypher: window.jsonGraph.query\n",
    "    };\n",
    "        \n",
    "    let viz = new NeoVis.default(config);\n",
    "    viz.render();\n",
    "    \n",
    "    viz.onVisualizationRendered(function(ctx) {\n",
    "      let imageSrc = ctx.canvas.toDataURL();\n",
    "      let kernel = IPython.notebook.kernel;\n",
    "      let command = \"image_src = '\" + imageSrc + \"'\";\n",
    "      kernel.execute(command);\n",
    "      \n",
    "      var cell_element = output_area.element.parents('.cell');\n",
    "      var cell_idx = Jupyter.notebook.get_cell_elements().index(cell_element);\n",
    "      var cell = Jupyter.notebook.get_cell(cell_idx+1);\n",
    "      cell.set_text(\"render_image(image_src)\")\n",
    "      cell.execute();\n",
    "    });\n",
    "});"
   ]
  },
  {
   "cell_type": "code",
   "execution_count": 9,
   "metadata": {},
   "outputs": [
    {
     "data": {
      "text/html": [
       "<img id=\"viz-image\" width=\"300px\" src=\"data:image/png;base64,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\" />"
      ],
      "text/plain": [
       "<IPython.core.display.HTML object>"
      ]
     },
     "execution_count": 9,
     "metadata": {},
     "output_type": "execute_result"
    }
   ],
   "source": [
    "render_image(image_src)"
   ]
  }
 ],
 "metadata": {
  "kernelspec": {
   "display_name": "Python 3",
   "language": "python",
   "name": "python3"
  },
  "language_info": {
   "codemirror_mode": {
    "name": "ipython",
    "version": 3
   },
   "file_extension": ".py",
   "mimetype": "text/x-python",
   "name": "python",
   "nbconvert_exporter": "python",
   "pygments_lexer": "ipython3",
   "version": "3.6.0"
  }
 },
 "nbformat": 4,
 "nbformat_minor": 2
}
