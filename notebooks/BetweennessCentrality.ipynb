{
 "cells": [
  {
   "cell_type": "markdown",
   "metadata": {},
   "source": [
    "# Betweenness Centrality\n",
    "_Betweenness Centrality_ is a way of detecting the amount of influence a node has over the flow of information in a graph.\n",
    "\n",
    "image::../images/betweenness_centrality.png[]\n",
    "\n",
    "It is often used to find nodes that serve as a bridge from one part of a graph to another.\n",
    "In the above example Alice is the main connection in the graph.\n",
    "If Alice is removed all connections in the graph would be cut off.\n",
    "This makes Alice \"important\" because she ensures that no nodes are isolated.\n",
    "\n",
    "First we'll import the Neo4j driver and Pandas libraries:\n"
   ]
  },
  {
   "cell_type": "code",
   "execution_count": 128,
   "metadata": {},
   "outputs": [],
   "source": [
    "from neo4j.v1 import GraphDatabase, basic_auth\n",
    "import pandas as pd\n",
    "import os"
   ]
  },
  {
   "cell_type": "markdown",
   "metadata": {},
   "source": [
    "Next let's create an instance of the Neo4j driver which we'll use to execute our queries.\n"
   ]
  },
  {
   "cell_type": "code",
   "execution_count": 130,
   "metadata": {},
   "outputs": [],
   "source": [
    "host = os.environ.get(\"NEO4J_HOST\", \"bolt://localhost\") \n",
    "user = os.environ.get(\"NEO4J_USER\", \"neo4j\")\n",
    "password = os.environ.get(\"NEO4J_PASSWORD\", \"neo\")\n",
    "driver = GraphDatabase.driver(host, auth=basic_auth(user, password))"
   ]
  },
  {
   "cell_type": "markdown",
   "metadata": {},
   "source": [
    "Now let's create a sample graph that we'll run the algorithm against.\n"
   ]
  },
  {
   "cell_type": "code",
   "execution_count": 131,
   "metadata": {},
   "outputs": [
    {
     "name": "stdout",
     "output_type": "stream",
     "text": [
      "Stats: {}\n"
     ]
    }
   ],
   "source": [
    "create_graph_query = '''\n",
    "MERGE (nAlice:User {id:'Alice'})\n",
    "MERGE (nBridget:User {id:'Bridget'})\n",
    "MERGE (nCharles:User {id:'Charles'})\n",
    "MERGE (nDoug:User {id:'Doug'})\n",
    "MERGE (nMark:User {id:'Mark'})\n",
    "MERGE (nMichael:User {id:'Michael'})\n",
    "\n",
    "MERGE (nAlice)-[:MANAGE]->(nBridget)\n",
    "MERGE (nAlice)-[:MANAGE]->(nCharles)\n",
    "MERGE (nAlice)-[:MANAGE]->(nDoug)\n",
    "MERGE (nMark)-[:MANAGE]->(nAlice)\n",
    "MERGE (nCharles)-[:MANAGE]->(nMichael);\n",
    "'''\n",
    "\n",
    "with driver.session() as session:\n",
    "    result = session.write_transaction(lambda tx: tx.run(create_graph_query))\n",
    "    print(\"Stats: \" + str(result.consume().metadata.get(\"stats\", {})))"
   ]
  },
  {
   "cell_type": "markdown",
   "metadata": {},
   "source": [
    "Finally we can run the algorithm by executing the following query:\n"
   ]
  },
  {
   "cell_type": "code",
   "execution_count": 133,
   "metadata": {},
   "outputs": [
    {
     "data": {
      "text/html": [
       "<div>\n",
       "<style scoped>\n",
       "    .dataframe tbody tr th:only-of-type {\n",
       "        vertical-align: middle;\n",
       "    }\n",
       "\n",
       "    .dataframe tbody tr th {\n",
       "        vertical-align: top;\n",
       "    }\n",
       "\n",
       "    .dataframe thead th {\n",
       "        text-align: right;\n",
       "    }\n",
       "</style>\n",
       "<table border=\"1\" class=\"dataframe\">\n",
       "  <thead>\n",
       "    <tr style=\"text-align: right;\">\n",
       "      <th></th>\n",
       "      <th>user</th>\n",
       "      <th>centrality</th>\n",
       "    </tr>\n",
       "  </thead>\n",
       "  <tbody>\n",
       "    <tr>\n",
       "      <th>0</th>\n",
       "      <td>Alice</td>\n",
       "      <td>4.0</td>\n",
       "    </tr>\n",
       "    <tr>\n",
       "      <th>1</th>\n",
       "      <td>Charles</td>\n",
       "      <td>2.0</td>\n",
       "    </tr>\n",
       "    <tr>\n",
       "      <th>2</th>\n",
       "      <td>Bridget</td>\n",
       "      <td>0.0</td>\n",
       "    </tr>\n",
       "    <tr>\n",
       "      <th>3</th>\n",
       "      <td>Doug</td>\n",
       "      <td>0.0</td>\n",
       "    </tr>\n",
       "    <tr>\n",
       "      <th>4</th>\n",
       "      <td>Mark</td>\n",
       "      <td>0.0</td>\n",
       "    </tr>\n",
       "    <tr>\n",
       "      <th>5</th>\n",
       "      <td>Michael</td>\n",
       "      <td>0.0</td>\n",
       "    </tr>\n",
       "  </tbody>\n",
       "</table>\n",
       "</div>"
      ],
      "text/plain": [
       "      user  centrality\n",
       "0    Alice         4.0\n",
       "1  Charles         2.0\n",
       "2  Bridget         0.0\n",
       "3     Doug         0.0\n",
       "4     Mark         0.0\n",
       "5  Michael         0.0"
      ]
     },
     "execution_count": 133,
     "metadata": {},
     "output_type": "execute_result"
    }
   ],
   "source": [
    "streaming_query = \"\"\"\n",
    "CALL algo.betweenness.stream('User','MANAGE',{direction:'out'}) \n",
    "YIELD nodeId, centrality\n",
    "\n",
    "MATCH (user:User) WHERE id(user) = nodeId\n",
    "\n",
    "RETURN user.id AS user,centrality\n",
    "ORDER BY centrality DESC\n",
    "LIMIT 20;\n",
    "\"\"\"\n",
    "\n",
    "with driver.session() as session:\n",
    "    result = session.read_transaction(lambda tx: tx.run(streaming_query))        \n",
    "    df = pd.DataFrame([r.values() for r in result], columns=result.keys())\n",
    "\n",
    "df"
   ]
  },
  {
   "cell_type": "markdown",
   "metadata": {},
   "source": [
    "We can see that Alice is the main broker in this network and Charles is a minor broker.\n",
    "The others don't have any influence because all the shortest paths between pairs of people go via Alice or Charles."
   ]
  },
  {
   "cell_type": "markdown",
   "metadata": {},
   "source": [
    "We can also call a version of the algorithm that will store the result as a property on a\n",
    "node. This is useful if we want to run future queries that use the result."
   ]
  },
  {
   "cell_type": "code",
   "execution_count": 134,
   "metadata": {},
   "outputs": [],
   "source": [
    "write_query = \"\"\"\n",
    "CALL algo.betweenness('User','MANAGE', {direction:'out',write:true, writeProperty:'centrality'}) \n",
    "YIELD nodes, minCentrality, maxCentrality, sumCentrality, loadMillis, computeMillis, writeMillis;\n",
    "\"\"\"\n",
    "\n",
    "with driver.session() as session:\n",
    "    session.write_transaction(lambda tx: tx.run(write_query))"
   ]
  },
  {
   "cell_type": "markdown",
   "metadata": {},
   "source": [
    "## Graph Visualisation\n",
    "\n",
    "Sometimes a picture can tell more than a table of results and this is often the case with graph algorithms. \n",
    "Let's see how to create a graph visualization using neovis.js.\n",
    "\n",
    "First we'll create a div into which we will generate the visualisation."
   ]
  },
  {
   "cell_type": "code",
   "execution_count": 136,
   "metadata": {},
   "outputs": [
    {
     "data": {
      "text/html": [
       "<style type=\"text/css\">                \n",
       ".output_wrapper, .output {\n",
       "    height:auto !important;\n",
       "    max-height:600px;\n",
       "}\n",
       ".output_scroll {\n",
       "    box-shadow:none !important;\n",
       "    webkit-box-shadow:none !important;\n",
       "}\n",
       "\n",
       "#viz {\n",
       "    width: 300px;\n",
       "    height: 350px;\n",
       "    font: 22pt arial;\n",
       "}\n",
       "</style>  \n",
       "<div id=\"viz\"></div>"
      ],
      "text/plain": [
       "<IPython.core.display.HTML object>"
      ]
     },
     "metadata": {},
     "output_type": "display_data"
    }
   ],
   "source": [
    "%%html\n",
    "<style type=\"text/css\">                \n",
    ".output_wrapper, .output {\n",
    "    height:auto !important;\n",
    "    max-height:600px;\n",
    "}\n",
    ".output_scroll {\n",
    "    box-shadow:none !important;\n",
    "    webkit-box-shadow:none !important;\n",
    "}\n",
    "\n",
    "#viz {\n",
    "    width: 300px;\n",
    "    height: 350px;\n",
    "    font: 22pt arial;\n",
    "}\n",
    "</style>  \n",
    "<div id=\"viz\"></div>"
   ]
  },
  {
   "cell_type": "markdown",
   "metadata": {},
   "source": [
    "Next we need to define the query that the visualization will be generated from, along with config \n",
    "that describes which properties will be used for node size, node colour, and relationship width. \n",
    "\n",
    "We'll then define a JavaScript variable that contains all our parameters."
   ]
  },
  {
   "cell_type": "code",
   "execution_count": 137,
   "metadata": {},
   "outputs": [
    {
     "data": {
      "application/javascript": [
       "window.jsonGraph={\"query\": \"MATCH (p1:User)-[r:MANAGE]->(p2:User) RETURN *\", \"labels\": {\"User\": {\"caption\": \"id\", \"size\": \"centrality\"}}, \"relationships\": {\"MANAGE\": {\"thickness\": \"weight\", \"caption\": false}}, \"host\": \"bolt://localhost\", \"user\": \"neo4j\", \"password\": \"neo\"};"
      ],
      "text/plain": [
       "<IPython.core.display.Javascript object>"
      ]
     },
     "execution_count": 137,
     "metadata": {},
     "output_type": "execute_result"
    }
   ],
   "source": [
    "from IPython.core.display import Javascript\n",
    "import json\n",
    "from scripts.algo import viz_config, render_image\n",
    "\n",
    "config = viz_config(\"Betweenness Centrality\")\n",
    "query = config[\"query\"]\n",
    "labels_json = config[\"labels_json\"]\n",
    "relationships_json = config[\"relationships_json\"]\n",
    "\n",
    "json_graph = {\n",
    "    \"query\": query,\n",
    "    \"labels\": labels_json,\n",
    "    \"relationships\": relationships_json,\n",
    "    \"host\": host,\n",
    "    \"user\": user,\n",
    "    \"password\": password\n",
    "}\n",
    "\n",
    "Javascript(\"\"\"window.jsonGraph={};\"\"\".format(json.dumps(json_graph)))"
   ]
  },
  {
   "cell_type": "markdown",
   "metadata": {},
   "source": [
    "Now we're ready to call neovis.js and generate our graph visualisation. \n",
    "The following code will create an interactive graph into the div defined above.\n",
    "It will also extract an image representation of the graph and display that in the cell below."
   ]
  },
  {
   "cell_type": "code",
   "execution_count": 244,
   "metadata": {},
   "outputs": [
    {
     "data": {
      "application/javascript": [
       "var output_area = this;\n",
       "requirejs(['neovis.js'], function(NeoVis){    \n",
       "    var config = {\n",
       "      container_id: \"viz\",\n",
       "      server_url: window.jsonGraph.host,\n",
       "      server_user: window.jsonGraph.user,\n",
       "      server_password: window.jsonGraph.password,\n",
       "      labels: window.jsonGraph.labels,\n",
       "      relationships: window.jsonGraph.relationships,\n",
       "      initial_cypher: window.jsonGraph.query\n",
       "    };\n",
       "        \n",
       "    let viz = new NeoVis.default(config);\n",
       "    viz.render();\n",
       "    \n",
       "    viz.onVisualizationRendered(function(ctx) {\n",
       "      let imageSrc = ctx.canvas.toDataURL();\n",
       "      let kernel = IPython.notebook.kernel;\n",
       "      let command = \"image_src = '\" + imageSrc + \"'\";\n",
       "      kernel.execute(command);\n",
       "      \n",
       "      var cell_element = output_area.element.parents('.cell');\n",
       "      var cell_idx = Jupyter.notebook.get_cell_elements().index(cell_element);\n",
       "      var cell = Jupyter.notebook.get_cell(cell_idx+1);\n",
       "      cell.set_text(\"render_image(image_src)\")\n",
       "      cell.execute();\n",
       "    });\n",
       "});"
      ],
      "text/plain": [
       "<IPython.core.display.Javascript object>"
      ]
     },
     "metadata": {},
     "output_type": "display_data"
    }
   ],
   "source": [
    "%%javascript\n",
    "var output_area = this;\n",
    "requirejs(['neovis.js'], function(NeoVis){    \n",
    "    var config = {\n",
    "      container_id: \"viz\",\n",
    "      server_url: window.jsonGraph.host,\n",
    "      server_user: window.jsonGraph.user,\n",
    "      server_password: window.jsonGraph.password,\n",
    "      labels: window.jsonGraph.labels,\n",
    "      relationships: window.jsonGraph.relationships,\n",
    "      initial_cypher: window.jsonGraph.query\n",
    "    };\n",
    "        \n",
    "    let viz = new NeoVis.default(config);\n",
    "    viz.render();\n",
    "    \n",
    "    viz.onVisualizationRendered(function(ctx) {\n",
    "      let imageSrc = ctx.canvas.toDataURL();\n",
    "      let kernel = IPython.notebook.kernel;\n",
    "      let command = \"image_src = '\" + imageSrc + \"'\";\n",
    "      kernel.execute(command);\n",
    "      \n",
    "      var cell_element = output_area.element.parents('.cell');\n",
    "      var cell_idx = Jupyter.notebook.get_cell_elements().index(cell_element);\n",
    "      var cell = Jupyter.notebook.get_cell(cell_idx+1);\n",
    "      cell.set_text(\"render_image(image_src)\")\n",
    "      cell.execute();\n",
    "    });\n",
    "});"
   ]
  },
  {
   "cell_type": "code",
   "execution_count": 245,
   "metadata": {
    "scrolled": true
   },
   "outputs": [
    {
     "data": {
      "text/html": [
       "<img id=\"viz-image\" width=\"300px\" src=\"data:image/png;base64,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\" />"
      ],
      "text/plain": [
       "<IPython.core.display.HTML object>"
      ]
     },
     "execution_count": 245,
     "metadata": {},
     "output_type": "execute_result"
    }
   ],
   "source": [
    "render_image(image_src)"
   ]
  }
 ],
 "metadata": {
  "kernelspec": {
   "display_name": "Python 3",
   "language": "python",
   "name": "python3"
  },
  "language_info": {
   "codemirror_mode": {
    "name": "ipython",
    "version": 3
   },
   "file_extension": ".py",
   "mimetype": "text/x-python",
   "name": "python",
   "nbconvert_exporter": "python",
   "pygments_lexer": "ipython3",
   "version": "3.6.0"
  }
 },
 "nbformat": 4,
 "nbformat_minor": 2
}
