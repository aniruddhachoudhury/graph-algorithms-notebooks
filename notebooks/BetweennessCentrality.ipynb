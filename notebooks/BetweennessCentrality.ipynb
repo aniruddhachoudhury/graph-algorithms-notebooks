{
 "cells": [
  {
   "cell_type": "markdown",
   "metadata": {},
   "source": [
    "# Betweenness Centrality\n",
    "_Betweenness Centrality_ is a way of detecting the amount of influence a node has over the flow of information in a graph.\n",
    "\n",
    "image::../images/betweenness_centrality.png[]\n",
    "\n",
    "It is often used to find nodes that serve as a bridge from one part of a graph to another.\n",
    "In the above example Alice is the main connection in the graph.\n",
    "If Alice is removed all connections in the graph would be cut off.\n",
    "This makes Alice \"important\" because she ensures that no nodes are isolated.\n",
    "\n",
    "First we'll import the Neo4j driver and Pandas libraries:\n"
   ]
  },
  {
   "cell_type": "code",
   "execution_count": 1,
   "metadata": {},
   "outputs": [],
   "source": [
    "from neo4j.v1 import GraphDatabase, basic_auth\n",
    "import pandas as pd\n",
    "import os"
   ]
  },
  {
   "cell_type": "markdown",
   "metadata": {},
   "source": [
    "Next let's create an instance of the Neo4j driver which we'll use to execute our queries.\n"
   ]
  },
  {
   "cell_type": "code",
   "execution_count": 2,
   "metadata": {},
   "outputs": [],
   "source": [
    "host = os.environ.get(\"NEO4J_HOST\", \"bolt://localhost\") \n",
    "user = os.environ.get(\"NEO4J_USER\", \"neo4j\")\n",
    "password = os.environ.get(\"NEO4J_PASSWORD\", \"neo\")\n",
    "driver = GraphDatabase.driver(host, auth=basic_auth(user, password))"
   ]
  },
  {
   "cell_type": "markdown",
   "metadata": {},
   "source": [
    "Now let's create a sample graph that we'll run the algorithm against.\n"
   ]
  },
  {
   "cell_type": "code",
   "execution_count": 3,
   "metadata": {},
   "outputs": [
    {
     "name": "stdout",
     "output_type": "stream",
     "text": [
      "Stats: {}\n"
     ]
    }
   ],
   "source": [
    "create_graph_query = '''\n",
    "MERGE (nAlice:User {id:'Alice'})\n",
    "MERGE (nBridget:User {id:'Bridget'})\n",
    "MERGE (nCharles:User {id:'Charles'})\n",
    "MERGE (nDoug:User {id:'Doug'})\n",
    "MERGE (nMark:User {id:'Mark'})\n",
    "MERGE (nMichael:User {id:'Michael'})\n",
    "\n",
    "MERGE (nAlice)-[:MANAGE]->(nBridget)\n",
    "MERGE (nAlice)-[:MANAGE]->(nCharles)\n",
    "MERGE (nAlice)-[:MANAGE]->(nDoug)\n",
    "MERGE (nMark)-[:MANAGE]->(nAlice)\n",
    "MERGE (nCharles)-[:MANAGE]->(nMichael);\n",
    "'''\n",
    "\n",
    "with driver.session() as session:\n",
    "    result = session.write_transaction(lambda tx: tx.run(create_graph_query))\n",
    "    print(\"Stats: \" + str(result.consume().metadata.get(\"stats\", {})))"
   ]
  },
  {
   "cell_type": "markdown",
   "metadata": {},
   "source": [
    "Finally we can run the algorithm by executing the following query:\n"
   ]
  },
  {
   "cell_type": "code",
   "execution_count": 4,
   "metadata": {},
   "outputs": [
    {
     "data": {
      "text/html": [
       "<div>\n",
       "<style scoped>\n",
       "    .dataframe tbody tr th:only-of-type {\n",
       "        vertical-align: middle;\n",
       "    }\n",
       "\n",
       "    .dataframe tbody tr th {\n",
       "        vertical-align: top;\n",
       "    }\n",
       "\n",
       "    .dataframe thead th {\n",
       "        text-align: right;\n",
       "    }\n",
       "</style>\n",
       "<table border=\"1\" class=\"dataframe\">\n",
       "  <thead>\n",
       "    <tr style=\"text-align: right;\">\n",
       "      <th></th>\n",
       "      <th>user</th>\n",
       "      <th>centrality</th>\n",
       "    </tr>\n",
       "  </thead>\n",
       "  <tbody>\n",
       "    <tr>\n",
       "      <th>0</th>\n",
       "      <td>Alice</td>\n",
       "      <td>4.0</td>\n",
       "    </tr>\n",
       "    <tr>\n",
       "      <th>1</th>\n",
       "      <td>Charles</td>\n",
       "      <td>2.0</td>\n",
       "    </tr>\n",
       "    <tr>\n",
       "      <th>2</th>\n",
       "      <td>Bridget</td>\n",
       "      <td>0.0</td>\n",
       "    </tr>\n",
       "    <tr>\n",
       "      <th>3</th>\n",
       "      <td>Doug</td>\n",
       "      <td>0.0</td>\n",
       "    </tr>\n",
       "    <tr>\n",
       "      <th>4</th>\n",
       "      <td>Mark</td>\n",
       "      <td>0.0</td>\n",
       "    </tr>\n",
       "    <tr>\n",
       "      <th>5</th>\n",
       "      <td>Michael</td>\n",
       "      <td>0.0</td>\n",
       "    </tr>\n",
       "  </tbody>\n",
       "</table>\n",
       "</div>"
      ],
      "text/plain": [
       "      user  centrality\n",
       "0    Alice         4.0\n",
       "1  Charles         2.0\n",
       "2  Bridget         0.0\n",
       "3     Doug         0.0\n",
       "4     Mark         0.0\n",
       "5  Michael         0.0"
      ]
     },
     "execution_count": 4,
     "metadata": {},
     "output_type": "execute_result"
    }
   ],
   "source": [
    "streaming_query = \"\"\"\n",
    "CALL algo.betweenness.stream('User','MANAGE',{direction:'out'}) \n",
    "YIELD nodeId, centrality\n",
    "\n",
    "MATCH (user:User) WHERE id(user) = nodeId\n",
    "\n",
    "RETURN user.id AS user,centrality\n",
    "ORDER BY centrality DESC\n",
    "LIMIT 20;\n",
    "\"\"\"\n",
    "\n",
    "with driver.session() as session:\n",
    "    result = session.read_transaction(lambda tx: tx.run(streaming_query))        \n",
    "    df = pd.DataFrame([r.values() for r in result], columns=result.keys())\n",
    "\n",
    "df"
   ]
  },
  {
   "cell_type": "markdown",
   "metadata": {},
   "source": [
    "We can see that Alice is the main broker in this network and Charles is a minor broker.\n",
    "The others don't have any influence because all the shortest paths between pairs of people go via Alice or Charles."
   ]
  },
  {
   "cell_type": "markdown",
   "metadata": {},
   "source": [
    "## Graph Visualisation\n",
    "\n",
    "Sometimes a picture can tell more than a table of results and this is often the case with graph algorithms. \n",
    "Let's see how to create a graph visualization using neovis.js.\n",
    "\n",
    "First we'll create a div into which we will generate the visualisation."
   ]
  },
  {
   "cell_type": "code",
   "execution_count": 5,
   "metadata": {},
   "outputs": [
    {
     "data": {
      "text/html": [
       "<style type=\"text/css\">                \n",
       ".output_wrapper, .output {\n",
       "    height:auto !important;\n",
       "    max-height:600px;\n",
       "}\n",
       ".output_scroll {\n",
       "    box-shadow:none !important;\n",
       "    webkit-box-shadow:none !important;\n",
       "}\n",
       "\n",
       "#viz {\n",
       "    width: 300px;\n",
       "    height: 350px;\n",
       "    font: 22pt arial;\n",
       "}\n",
       "</style>  \n",
       "<div id=\"viz\"></div>"
      ],
      "text/plain": [
       "<IPython.core.display.HTML object>"
      ]
     },
     "metadata": {},
     "output_type": "display_data"
    }
   ],
   "source": [
    "%%html\n",
    "<style type=\"text/css\">                \n",
    ".output_wrapper, .output {\n",
    "    height:auto !important;\n",
    "    max-height:600px;\n",
    "}\n",
    ".output_scroll {\n",
    "    box-shadow:none !important;\n",
    "    webkit-box-shadow:none !important;\n",
    "}\n",
    "\n",
    "#viz {\n",
    "    width: 300px;\n",
    "    height: 350px;\n",
    "    font: 22pt arial;\n",
    "}\n",
    "</style>  \n",
    "<div id=\"viz\"></div>"
   ]
  },
  {
   "cell_type": "markdown",
   "metadata": {},
   "source": [
    "Next we need to define the query that the visualization will be generated from, along with config \n",
    "that describes which properties will be used for node size, node colour, and relationship width. \n",
    "\n",
    "We'll then define a JavaScript variable that contains all our parameters."
   ]
  },
  {
   "cell_type": "code",
   "execution_count": 6,
   "metadata": {},
   "outputs": [
    {
     "data": {
      "application/javascript": [
       "window.jsonGraph={\"query\": \"MATCH (p1:User)-[r:MANAGE]->(p2:User) RETURN *\", \"labels\": {\"User\": {\"caption\": \"id\", \"size\": \"centrality\"}}, \"relationships\": {\"MANAGE\": {\"thickness\": \"weight\", \"caption\": false}}, \"host\": \"bolt://localhost\", \"user\": \"neo4j\", \"password\": \"neo\"};"
      ],
      "text/plain": [
       "<IPython.core.display.Javascript object>"
      ]
     },
     "execution_count": 6,
     "metadata": {},
     "output_type": "execute_result"
    }
   ],
   "source": [
    "from IPython.core.display import Javascript\n",
    "import json\n",
    "from scripts.algo import viz_config, render_image\n",
    "\n",
    "config = viz_config(\"Betweenness Centrality\")\n",
    "query = config[\"query\"]\n",
    "labels_json = config[\"labels_json\"]\n",
    "relationships_json = config[\"relationships_json\"]\n",
    "\n",
    "json_graph = {\n",
    "    \"query\": query,\n",
    "    \"labels\": labels_json,\n",
    "    \"relationships\": relationships_json,\n",
    "    \"host\": host,\n",
    "    \"user\": user,\n",
    "    \"password\": password\n",
    "}\n",
    "\n",
    "Javascript(\"\"\"window.jsonGraph={};\"\"\".format(json.dumps(json_graph)))"
   ]
  },
  {
   "cell_type": "markdown",
   "metadata": {},
   "source": [
    "Now we're ready to call neovis.js and generate our graph visualisation. \n",
    "The following code will create an interactive graph into the div defined above.\n",
    "It will also extract an image representation of the graph and display that in the cell below."
   ]
  },
  {
   "cell_type": "code",
   "execution_count": 7,
   "metadata": {},
   "outputs": [
    {
     "data": {
      "application/javascript": [
       "var output_area = this;\n",
       "requirejs(['neovis.js'], function(NeoVis){    \n",
       "    var config = {\n",
       "      container_id: \"viz\",\n",
       "      server_url: window.jsonGraph.host,\n",
       "      server_user: window.jsonGraph.user,\n",
       "      server_password: window.jsonGraph.password,\n",
       "      labels: window.jsonGraph.labels,\n",
       "      relationships: window.jsonGraph.relationships,\n",
       "      initial_cypher: window.jsonGraph.query\n",
       "    };\n",
       "        \n",
       "    let viz = new NeoVis.default(config);\n",
       "    viz.render();\n",
       "    \n",
       "    viz.onVisualizationRendered(function(ctx) {\n",
       "      let imageSrc = ctx.canvas.toDataURL();\n",
       "      let kernel = IPython.notebook.kernel;\n",
       "      let command = \"image_src = '\" + imageSrc + \"'\";\n",
       "      kernel.execute(command);\n",
       "      \n",
       "      var cell_element = output_area.element.parents('.cell');\n",
       "      var cell_idx = Jupyter.notebook.get_cell_elements().index(cell_element);\n",
       "      var cell = Jupyter.notebook.get_cell(cell_idx+1);\n",
       "      cell.set_text(\"render_image(image_src)\")\n",
       "      cell.execute();\n",
       "    });\n",
       "});"
      ],
      "text/plain": [
       "<IPython.core.display.Javascript object>"
      ]
     },
     "metadata": {},
     "output_type": "display_data"
    }
   ],
   "source": [
    "%%javascript\n",
    "var output_area = this;\n",
    "requirejs(['neovis.js'], function(NeoVis){    \n",
    "    var config = {\n",
    "      container_id: \"viz\",\n",
    "      server_url: window.jsonGraph.host,\n",
    "      server_user: window.jsonGraph.user,\n",
    "      server_password: window.jsonGraph.password,\n",
    "      labels: window.jsonGraph.labels,\n",
    "      relationships: window.jsonGraph.relationships,\n",
    "      initial_cypher: window.jsonGraph.query\n",
    "    };\n",
    "        \n",
    "    let viz = new NeoVis.default(config);\n",
    "    viz.render();\n",
    "    \n",
    "    viz.onVisualizationRendered(function(ctx) {\n",
    "      let imageSrc = ctx.canvas.toDataURL();\n",
    "      let kernel = IPython.notebook.kernel;\n",
    "      let command = \"image_src = '\" + imageSrc + \"'\";\n",
    "      kernel.execute(command);\n",
    "      \n",
    "      var cell_element = output_area.element.parents('.cell');\n",
    "      var cell_idx = Jupyter.notebook.get_cell_elements().index(cell_element);\n",
    "      var cell = Jupyter.notebook.get_cell(cell_idx+1);\n",
    "      cell.set_text(\"render_image(image_src)\")\n",
    "      cell.execute();\n",
    "    });\n",
    "});"
   ]
  },
  {
   "cell_type": "code",
   "execution_count": 9,
   "metadata": {},
   "outputs": [
    {
     "data": {
      "text/html": [
       "<img id=\"viz-image\" width=\"300px\" src=\"data:image/png;base64,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\" />"
      ],
      "text/plain": [
       "<IPython.core.display.HTML object>"
      ]
     },
     "execution_count": 9,
     "metadata": {},
     "output_type": "execute_result"
    }
   ],
   "source": [
    "render_image(image_src)"
   ]
  }
 ],
 "metadata": {
  "kernelspec": {
   "display_name": "Python 3",
   "language": "python",
   "name": "python3"
  },
  "language_info": {
   "codemirror_mode": {
    "name": "ipython",
    "version": 3
   },
   "file_extension": ".py",
   "mimetype": "text/x-python",
   "name": "python",
   "nbconvert_exporter": "python",
   "pygments_lexer": "ipython3",
   "version": "3.6.0"
  }
 },
 "nbformat": 4,
 "nbformat_minor": 2
}
