{
 "cells": [
  {
   "cell_type": "markdown",
   "metadata": {},
   "source": [
    "# Betweenness Centrality\n",
    "_Betweenness Centrality_ is a way of detecting the amount of influence a node has over the flow of information in a graph.\n",
    "\n",
    "image::../images/betweenness_centrality.png[]\n",
    "\n",
    "It is often used to find nodes that serve as a bridge from one part of a graph to another.\n",
    "In the above example Alice is the main connection in the graph.\n",
    "If Alice is removed all connections in the graph would be cut off.\n",
    "This makes Alice \"important\" because she ensures that no nodes are isolated.\n",
    "\n",
    "First we'll import the Neo4j driver and Pandas libraries:\n"
   ]
  },
  {
   "cell_type": "code",
   "execution_count": 128,
   "metadata": {},
   "outputs": [],
   "source": [
    "from neo4j.v1 import GraphDatabase, basic_auth\n",
    "import pandas as pd\n",
    "import os"
   ]
  },
  {
   "cell_type": "markdown",
   "metadata": {},
   "source": [
    "Next let's create an instance of the Neo4j driver which we'll use to execute our queries.\n"
   ]
  },
  {
   "cell_type": "code",
   "execution_count": 130,
   "metadata": {},
   "outputs": [],
   "source": [
    "host = os.environ.get(\"NEO4J_HOST\", \"bolt://localhost\") \n",
    "user = os.environ.get(\"NEO4J_USER\", \"neo4j\")\n",
    "password = os.environ.get(\"NEO4J_PASSWORD\", \"neo\")\n",
    "driver = GraphDatabase.driver(host, auth=basic_auth(user, password))"
   ]
  },
  {
   "cell_type": "markdown",
   "metadata": {},
   "source": [
    "Now let's create a sample graph that we'll run the algorithm against.\n"
   ]
  },
  {
   "cell_type": "code",
   "execution_count": 131,
   "metadata": {},
   "outputs": [
    {
     "name": "stdout",
     "output_type": "stream",
     "text": [
      "Stats: {}\n"
     ]
    }
   ],
   "source": [
    "create_graph_query = '''\n",
    "MERGE (nAlice:User {id:'Alice'})\n",
    "MERGE (nBridget:User {id:'Bridget'})\n",
    "MERGE (nCharles:User {id:'Charles'})\n",
    "MERGE (nDoug:User {id:'Doug'})\n",
    "MERGE (nMark:User {id:'Mark'})\n",
    "MERGE (nMichael:User {id:'Michael'})\n",
    "\n",
    "MERGE (nAlice)-[:MANAGE]->(nBridget)\n",
    "MERGE (nAlice)-[:MANAGE]->(nCharles)\n",
    "MERGE (nAlice)-[:MANAGE]->(nDoug)\n",
    "MERGE (nMark)-[:MANAGE]->(nAlice)\n",
    "MERGE (nCharles)-[:MANAGE]->(nMichael);\n",
    "'''\n",
    "\n",
    "with driver.session() as session:\n",
    "    result = session.write_transaction(lambda tx: tx.run(create_graph_query))\n",
    "    print(\"Stats: \" + str(result.consume().metadata.get(\"stats\", {})))"
   ]
  },
  {
   "cell_type": "markdown",
   "metadata": {},
   "source": [
    "Finally we can run the algorithm by executing the following query:\n"
   ]
  },
  {
   "cell_type": "code",
   "execution_count": 133,
   "metadata": {},
   "outputs": [
    {
     "data": {
      "text/html": [
       "<div>\n",
       "<style scoped>\n",
       "    .dataframe tbody tr th:only-of-type {\n",
       "        vertical-align: middle;\n",
       "    }\n",
       "\n",
       "    .dataframe tbody tr th {\n",
       "        vertical-align: top;\n",
       "    }\n",
       "\n",
       "    .dataframe thead th {\n",
       "        text-align: right;\n",
       "    }\n",
       "</style>\n",
       "<table border=\"1\" class=\"dataframe\">\n",
       "  <thead>\n",
       "    <tr style=\"text-align: right;\">\n",
       "      <th></th>\n",
       "      <th>user</th>\n",
       "      <th>centrality</th>\n",
       "    </tr>\n",
       "  </thead>\n",
       "  <tbody>\n",
       "    <tr>\n",
       "      <th>0</th>\n",
       "      <td>Alice</td>\n",
       "      <td>4.0</td>\n",
       "    </tr>\n",
       "    <tr>\n",
       "      <th>1</th>\n",
       "      <td>Charles</td>\n",
       "      <td>2.0</td>\n",
       "    </tr>\n",
       "    <tr>\n",
       "      <th>2</th>\n",
       "      <td>Bridget</td>\n",
       "      <td>0.0</td>\n",
       "    </tr>\n",
       "    <tr>\n",
       "      <th>3</th>\n",
       "      <td>Doug</td>\n",
       "      <td>0.0</td>\n",
       "    </tr>\n",
       "    <tr>\n",
       "      <th>4</th>\n",
       "      <td>Mark</td>\n",
       "      <td>0.0</td>\n",
       "    </tr>\n",
       "    <tr>\n",
       "      <th>5</th>\n",
       "      <td>Michael</td>\n",
       "      <td>0.0</td>\n",
       "    </tr>\n",
       "  </tbody>\n",
       "</table>\n",
       "</div>"
      ],
      "text/plain": [
       "      user  centrality\n",
       "0    Alice         4.0\n",
       "1  Charles         2.0\n",
       "2  Bridget         0.0\n",
       "3     Doug         0.0\n",
       "4     Mark         0.0\n",
       "5  Michael         0.0"
      ]
     },
     "execution_count": 133,
     "metadata": {},
     "output_type": "execute_result"
    }
   ],
   "source": [
    "streaming_query = \"\"\"\n",
    "CALL algo.betweenness.stream('User','MANAGE',{direction:'out'}) \n",
    "YIELD nodeId, centrality\n",
    "\n",
    "MATCH (user:User) WHERE id(user) = nodeId\n",
    "\n",
    "RETURN user.id AS user,centrality\n",
    "ORDER BY centrality DESC\n",
    "LIMIT 20;\n",
    "\"\"\"\n",
    "\n",
    "with driver.session() as session:\n",
    "    result = session.read_transaction(lambda tx: tx.run(streaming_query))        \n",
    "    df = pd.DataFrame([r.values() for r in result], columns=result.keys())\n",
    "\n",
    "df"
   ]
  },
  {
   "cell_type": "markdown",
   "metadata": {},
   "source": [
    "We can see that Alice is the main broker in this network and Charles is a minor broker.\n",
    "The others don't have any influence because all the shortest paths between pairs of people go via Alice or Charles."
   ]
  },
  {
   "cell_type": "markdown",
   "metadata": {},
   "source": [
    "We can also call a version of the algorithm that will store the result as a property on a\n",
    "node. This is useful if we want to run future queries that use the result."
   ]
  },
  {
   "cell_type": "code",
   "execution_count": 134,
   "metadata": {},
   "outputs": [],
   "source": [
    "write_query = \"\"\"\n",
    "CALL algo.betweenness('User','MANAGE', {direction:'out',write:true, writeProperty:'centrality'}) \n",
    "YIELD nodes, minCentrality, maxCentrality, sumCentrality, loadMillis, computeMillis, writeMillis;\n",
    "\"\"\"\n",
    "\n",
    "with driver.session() as session:\n",
    "    session.write_transaction(lambda tx: tx.run(write_query))"
   ]
  },
  {
   "cell_type": "markdown",
   "metadata": {},
   "source": [
    "## Graph Visualisation\n",
    "\n",
    "Sometimes a picture can tell more than a table of results and this is often the case with graph algorithms. \n",
    "Let's see how to create a graph visualization using neovis.js.\n",
    "\n",
    "First we'll create a div into which we will generate the visualisation."
   ]
  },
  {
   "cell_type": "code",
   "execution_count": 136,
   "metadata": {},
   "outputs": [
    {
     "data": {
      "text/html": [
       "<style type=\"text/css\">                \n",
       ".output_wrapper, .output {\n",
       "    height:auto !important;\n",
       "    max-height:600px;\n",
       "}\n",
       ".output_scroll {\n",
       "    box-shadow:none !important;\n",
       "    webkit-box-shadow:none !important;\n",
       "}\n",
       "\n",
       "#viz {\n",
       "    width: 300px;\n",
       "    height: 350px;\n",
       "    font: 22pt arial;\n",
       "}\n",
       "</style>  \n",
       "<div id=\"viz\"></div>"
      ],
      "text/plain": [
       "<IPython.core.display.HTML object>"
      ]
     },
     "metadata": {},
     "output_type": "display_data"
    }
   ],
   "source": [
    "%%html\n",
    "<style type=\"text/css\">                \n",
    ".output_wrapper, .output {\n",
    "    height:auto !important;\n",
    "    max-height:600px;\n",
    "}\n",
    ".output_scroll {\n",
    "    box-shadow:none !important;\n",
    "    webkit-box-shadow:none !important;\n",
    "}\n",
    "\n",
    "#viz {\n",
    "    width: 300px;\n",
    "    height: 350px;\n",
    "    font: 22pt arial;\n",
    "}\n",
    "</style>  \n",
    "<div id=\"viz\"></div>"
   ]
  },
  {
   "cell_type": "markdown",
   "metadata": {},
   "source": [
    "Next we need to define the query that the visualization will be generated from, along with config \n",
    "that describes which properties will be used for node size, node colour, and relationship width. \n",
    "\n",
    "We'll then define a JavaScript variable that contains all our parameters."
   ]
  },
  {
   "cell_type": "code",
   "execution_count": 137,
   "metadata": {},
   "outputs": [
    {
     "data": {
      "application/javascript": [
       "window.jsonGraph={\"query\": \"MATCH (p1:User)-[r:MANAGE]->(p2:User) RETURN *\", \"labels\": {\"User\": {\"caption\": \"id\", \"size\": \"centrality\"}}, \"relationships\": {\"MANAGE\": {\"thickness\": \"weight\", \"caption\": false}}, \"host\": \"bolt://localhost\", \"user\": \"neo4j\", \"password\": \"neo\"};"
      ],
      "text/plain": [
       "<IPython.core.display.Javascript object>"
      ]
     },
     "execution_count": 137,
     "metadata": {},
     "output_type": "execute_result"
    }
   ],
   "source": [
    "from IPython.core.display import Javascript\n",
    "import json\n",
    "from scripts.algo import viz_config, render_image\n",
    "\n",
    "config = viz_config(\"Betweenness Centrality\")\n",
    "query = config[\"query\"]\n",
    "labels_json = config[\"labels_json\"]\n",
    "relationships_json = config[\"relationships_json\"]\n",
    "\n",
    "json_graph = {\n",
    "    \"query\": query,\n",
    "    \"labels\": labels_json,\n",
    "    \"relationships\": relationships_json,\n",
    "    \"host\": host,\n",
    "    \"user\": user,\n",
    "    \"password\": password\n",
    "}\n",
    "\n",
    "Javascript(\"\"\"window.jsonGraph={};\"\"\".format(json.dumps(json_graph)))"
   ]
  },
  {
   "cell_type": "markdown",
   "metadata": {},
   "source": [
    "Now we're ready to call neovis.js and generate our graph visualisation. \n",
    "The following code will create an interactive graph into the div defined above.\n",
    "It will also extract an image representation of the graph and display that in the cell below."
   ]
  },
  {
   "cell_type": "code",
   "execution_count": 229,
   "metadata": {},
   "outputs": [
    {
     "data": {
      "application/javascript": [
       "var output_area = this;\n",
       "requirejs(['neovis.js'], function(NeoVis){    \n",
       "    var config = {\n",
       "      container_id: \"viz\",\n",
       "      server_url: window.jsonGraph.host,\n",
       "      server_user: window.jsonGraph.user,\n",
       "      server_password: window.jsonGraph.password,\n",
       "      labels: window.jsonGraph.labels,\n",
       "      relationships: window.jsonGraph.relationships,\n",
       "      initial_cypher: window.jsonGraph.query\n",
       "    };\n",
       "        \n",
       "    let viz = new NeoVis.default(config);\n",
       "    viz.render();\n",
       "    \n",
       "    viz.onVisualizationRendered(function(ctx) {\n",
       "      let imageSrc = ctx.canvas.toDataURL();\n",
       "      let kernel = IPython.notebook.kernel;\n",
       "      let command = \"image_src = '\" + imageSrc + \"'\";\n",
       "      kernel.execute(command);\n",
       "      \n",
       "      var cell_element = output_area.element.parents('.cell');\n",
       "      var cell_idx = Jupyter.notebook.get_cell_elements().index(cell_element);\n",
       "      var cell = Jupyter.notebook.get_cell(cell_idx+1);\n",
       "      cell.set_text(\"render_image(image_src)\")\n",
       "      cell.execute();\n",
       "    });\n",
       "});"
      ],
      "text/plain": [
       "<IPython.core.display.Javascript object>"
      ]
     },
     "metadata": {},
     "output_type": "display_data"
    }
   ],
   "source": [
    "%%javascript\n",
    "var output_area = this;\n",
    "requirejs(['neovis.js'], function(NeoVis){    \n",
    "    var config = {\n",
    "      container_id: \"viz\",\n",
    "      server_url: window.jsonGraph.host,\n",
    "      server_user: window.jsonGraph.user,\n",
    "      server_password: window.jsonGraph.password,\n",
    "      labels: window.jsonGraph.labels,\n",
    "      relationships: window.jsonGraph.relationships,\n",
    "      initial_cypher: window.jsonGraph.query\n",
    "    };\n",
    "        \n",
    "    let viz = new NeoVis.default(config);\n",
    "    viz.render();\n",
    "    \n",
    "    viz.onVisualizationRendered(function(ctx) {\n",
    "      let imageSrc = ctx.canvas.toDataURL();\n",
    "      let kernel = IPython.notebook.kernel;\n",
    "      let command = \"image_src = '\" + imageSrc + \"'\";\n",
    "      kernel.execute(command);\n",
    "      \n",
    "      var cell_element = output_area.element.parents('.cell');\n",
    "      var cell_idx = Jupyter.notebook.get_cell_elements().index(cell_element);\n",
    "      var cell = Jupyter.notebook.get_cell(cell_idx+1);\n",
    "      cell.set_text(\"render_image(image_src)\")\n",
    "      cell.execute();\n",
    "    });\n",
    "});"
   ]
  },
  {
   "cell_type": "code",
   "execution_count": 231,
   "metadata": {
    "scrolled": true
   },
   "outputs": [
    {
     "data": {
      "text/html": [
       "<img id=\"viz-image\" width=\"300px\" src=\"data:image/png;base64,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\" />"
      ],
      "text/plain": [
       "<IPython.core.display.HTML object>"
      ]
     },
     "execution_count": 231,
     "metadata": {},
     "output_type": "execute_result"
    }
   ],
   "source": [
    "render_image(image_src)"
   ]
  }
 ],
 "metadata": {
  "kernelspec": {
   "display_name": "Python 3",
   "language": "python",
   "name": "python3"
  },
  "language_info": {
   "codemirror_mode": {
    "name": "ipython",
    "version": 3
   },
   "file_extension": ".py",
   "mimetype": "text/x-python",
   "name": "python",
   "nbconvert_exporter": "python",
   "pygments_lexer": "ipython3",
   "version": "3.6.0"
  }
 },
 "nbformat": 4,
 "nbformat_minor": 2
}
