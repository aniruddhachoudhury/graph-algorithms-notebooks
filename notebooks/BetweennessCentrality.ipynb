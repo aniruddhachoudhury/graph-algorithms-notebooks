{
 "cells": [
  {
   "cell_type": "markdown",
   "metadata": {},
   "source": [
    "# Betweenness Centrality\n",
    "_Betweenness Centrality_ is a way of detecting the amount of influence a node has over the flow of information in a graph.\n",
    "\n",
    "image::../images/betweenness_centrality.png[]\n",
    "\n",
    "It is often used to find nodes that serve as a bridge from one part of a graph to another.\n",
    "In the above example Alice is the main connection in the graph.\n",
    "If Alice is removed all connections in the graph would be cut off.\n",
    "This makes Alice \"important\" because she ensures that no nodes are isolated.\n",
    "\n",
    "First we'll import the Neo4j driver and Pandas libraries:\n"
   ]
  },
  {
   "cell_type": "code",
   "execution_count": 1,
   "metadata": {},
   "outputs": [],
   "source": [
    "from neo4j.v1 import GraphDatabase, basic_auth\n",
    "import pandas as pd\n",
    "import os"
   ]
  },
  {
   "cell_type": "markdown",
   "metadata": {},
   "source": [
    "Next let's create an instance of the Neo4j driver which we'll use to execute our queries.\n"
   ]
  },
  {
   "cell_type": "code",
   "execution_count": 2,
   "metadata": {},
   "outputs": [],
   "source": [
    "host = os.environ.get(\"NEO4J_HOST\", \"bolt://localhost\") \n",
    "user = os.environ.get(\"NEO4J_USER\", \"neo4j\")\n",
    "password = os.environ.get(\"NEO4J_PASSWORD\", \"neo\")\n",
    "driver = GraphDatabase.driver(host, auth=basic_auth(user, password))"
   ]
  },
  {
   "cell_type": "markdown",
   "metadata": {},
   "source": [
    "Now let's create a sample graph that we'll run the algorithm against.\n"
   ]
  },
  {
   "cell_type": "code",
   "execution_count": 3,
   "metadata": {},
   "outputs": [
    {
     "name": "stdout",
     "output_type": "stream",
     "text": [
      "Stats: {'labels-added': 6, 'relationships-created': 5, 'nodes-created': 6, 'properties-set': 6}\n"
     ]
    }
   ],
   "source": [
    "create_graph_query = '''\n",
    "CREATE (nAlice:User {id:'Alice'})\n",
    ",(nBridget:User {id:'Bridget'})\n",
    ",(nCharles:User {id:'Charles'})\n",
    ",(nDoug:User {id:'Doug'})\n",
    ",(nMark:User {id:'Mark'})\n",
    ",(nMichael:User {id:'Michael'})\n",
    "CREATE (nAlice)-[:MANAGE]->(nBridget)\n",
    ",(nAlice)-[:MANAGE]->(nCharles)\n",
    ",(nAlice)-[:MANAGE]->(nDoug)\n",
    ",(nMark)-[:MANAGE]->(nAlice)\n",
    ",(nCharles)-[:MANAGE]->(nMichael);\n",
    "'''\n",
    "\n",
    "with driver.session() as session:\n",
    "    result = session.write_transaction(lambda tx: tx.run(create_graph_query))\n",
    "    print(\"Stats: \" + str(result.consume().metadata.get(\"stats\", {})))"
   ]
  },
  {
   "cell_type": "markdown",
   "metadata": {},
   "source": [
    "Finally we can run the algorithm by executing the following query:\n"
   ]
  },
  {
   "cell_type": "code",
   "execution_count": 4,
   "metadata": {},
   "outputs": [
    {
     "data": {
      "text/html": [
       "<div>\n",
       "<style scoped>\n",
       "    .dataframe tbody tr th:only-of-type {\n",
       "        vertical-align: middle;\n",
       "    }\n",
       "\n",
       "    .dataframe tbody tr th {\n",
       "        vertical-align: top;\n",
       "    }\n",
       "\n",
       "    .dataframe thead th {\n",
       "        text-align: right;\n",
       "    }\n",
       "</style>\n",
       "<table border=\"1\" class=\"dataframe\">\n",
       "  <thead>\n",
       "    <tr style=\"text-align: right;\">\n",
       "      <th></th>\n",
       "      <th>user</th>\n",
       "      <th>centrality</th>\n",
       "    </tr>\n",
       "  </thead>\n",
       "  <tbody>\n",
       "    <tr>\n",
       "      <th>0</th>\n",
       "      <td>Alice</td>\n",
       "      <td>4.0</td>\n",
       "    </tr>\n",
       "    <tr>\n",
       "      <th>1</th>\n",
       "      <td>Charles</td>\n",
       "      <td>2.0</td>\n",
       "    </tr>\n",
       "    <tr>\n",
       "      <th>2</th>\n",
       "      <td>Bridget</td>\n",
       "      <td>0.0</td>\n",
       "    </tr>\n",
       "    <tr>\n",
       "      <th>3</th>\n",
       "      <td>Doug</td>\n",
       "      <td>0.0</td>\n",
       "    </tr>\n",
       "    <tr>\n",
       "      <th>4</th>\n",
       "      <td>Mark</td>\n",
       "      <td>0.0</td>\n",
       "    </tr>\n",
       "    <tr>\n",
       "      <th>5</th>\n",
       "      <td>Michael</td>\n",
       "      <td>0.0</td>\n",
       "    </tr>\n",
       "  </tbody>\n",
       "</table>\n",
       "</div>"
      ],
      "text/plain": [
       "      user  centrality\n",
       "0    Alice         4.0\n",
       "1  Charles         2.0\n",
       "2  Bridget         0.0\n",
       "3     Doug         0.0\n",
       "4     Mark         0.0\n",
       "5  Michael         0.0"
      ]
     },
     "execution_count": 4,
     "metadata": {},
     "output_type": "execute_result"
    }
   ],
   "source": [
    "streaming_query = \"\"\"\n",
    "CALL algo.betweenness.stream('User','MANAGE',{direction:'out'}) \n",
    "YIELD nodeId, centrality\n",
    "\n",
    "MATCH (user:User) WHERE id(user) = nodeId\n",
    "\n",
    "RETURN user.id AS user,centrality\n",
    "ORDER BY centrality DESC\n",
    "LIMIT 20;\n",
    "\"\"\"\n",
    "\n",
    "with driver.session() as session:\n",
    "    result = session.read_transaction(lambda tx: tx.run(streaming_query))        \n",
    "    df = pd.DataFrame([r.values() for r in result], columns=result.keys())\n",
    "\n",
    "df"
   ]
  },
  {
   "cell_type": "markdown",
   "metadata": {},
   "source": [
    "We can see that Alice is the main broker in this network and Charles is a minor broker.\n",
    "The others don't have any influence because all the shortest paths between pairs of people go via Alice or Charles."
   ]
  }
 ],
 "metadata": {},
 "nbformat": 4,
 "nbformat_minor": 2
}
