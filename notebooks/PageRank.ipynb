{
 "cells": [
  {
   "cell_type": "markdown",
   "metadata": {},
   "source": [
    "# Page Rank\n",
    "PageRank is named after Google co-founder Larry Page and is used to rank websites in Google's search results.\n",
    "It counts the number and quality of links to a page to determine an estimate of how important a page is.\n",
    "The underlying assumption is that more important pages are likely to receive more links from other pages.\n"
   ]
  },
  {
   "cell_type": "code",
   "execution_count": 1,
   "metadata": {},
   "outputs": [],
   "source": [
    "from neo4j.v1 import GraphDatabase, basic_auth\n",
    "import pandas as pd\n",
    "import os"
   ]
  },
  {
   "cell_type": "code",
   "execution_count": 2,
   "metadata": {},
   "outputs": [],
   "source": [
    "host = os.environ.get(\"NEO4J_HOST\", \"bolt://localhost\") \n",
    "user = os.environ.get(\"NEO4J_USER\", \"neo4j\")\n",
    "password = os.environ.get(\"NEO4J_PASSWORD\", \"neo\")\n",
    "driver = GraphDatabase.driver(host, auth=basic_auth(user, password))"
   ]
  },
  {
   "cell_type": "code",
   "execution_count": 3,
   "metadata": {},
   "outputs": [
    {
     "name": "stdout",
     "output_type": "stream",
     "text": [
      "Stats: {'labels-added': 8, 'relationships-created': 14, 'nodes-created': 8, 'properties-set': 8}\n"
     ]
    }
   ],
   "source": [
    "create_graph_query = '''\n",
    "CREATE (home:Page{name:'Home'})\n",
    ",(about:Page{name:'About'})\n",
    ",(product:Page{name:'Product'})\n",
    ",(links:Page{name:'Links'})\n",
    ",(a:Page{name:'Site A'})\n",
    ",(b:Page{name:'Site B'})\n",
    ",(c:Page{name:'Site C'})\n",
    ",(d:Page{name:'Site D'})\n",
    "CREATE (home)-[:LINKS]->(about)\n",
    ",(about)-[:LINKS]->(home)\n",
    ",(product)-[:LINKS]->(home)\n",
    ",(home)-[:LINKS]->(product)\n",
    ",(links)-[:LINKS]->(home)\n",
    ",(home)-[:LINKS]->(links)\n",
    ",(links)-[:LINKS]->(a)-[:LINKS]->(home)\n",
    ",(links)-[:LINKS]->(b)-[:LINKS]->(home)\n",
    ",(links)-[:LINKS]->(c)-[:LINKS]->(home)\n",
    ",(links)-[:LINKS]->(d)-[:LINKS]->(home)\n",
    "'''\n",
    "\n",
    "with driver.session() as session:\n",
    "    result = session.write_transaction(lambda tx: tx.run(create_graph_query))\n",
    "    print(\"Stats: \" + str(result.consume().metadata.get(\"stats\", {})))"
   ]
  },
  {
   "cell_type": "code",
   "execution_count": 4,
   "metadata": {},
   "outputs": [
    {
     "data": {
      "text/html": [
       "<div>\n",
       "<style scoped>\n",
       "    .dataframe tbody tr th:only-of-type {\n",
       "        vertical-align: middle;\n",
       "    }\n",
       "\n",
       "    .dataframe tbody tr th {\n",
       "        vertical-align: top;\n",
       "    }\n",
       "\n",
       "    .dataframe thead th {\n",
       "        text-align: right;\n",
       "    }\n",
       "</style>\n",
       "<table border=\"1\" class=\"dataframe\">\n",
       "  <thead>\n",
       "    <tr style=\"text-align: right;\">\n",
       "      <th></th>\n",
       "      <th>node</th>\n",
       "      <th>score</th>\n",
       "    </tr>\n",
       "  </thead>\n",
       "  <tbody>\n",
       "    <tr>\n",
       "      <th>0</th>\n",
       "      <td>(name)</td>\n",
       "      <td>3.233877</td>\n",
       "    </tr>\n",
       "    <tr>\n",
       "      <th>1</th>\n",
       "      <td>(name)</td>\n",
       "      <td>1.060435</td>\n",
       "    </tr>\n",
       "    <tr>\n",
       "      <th>2</th>\n",
       "      <td>(name)</td>\n",
       "      <td>1.060435</td>\n",
       "    </tr>\n",
       "    <tr>\n",
       "      <th>3</th>\n",
       "      <td>(name)</td>\n",
       "      <td>1.060435</td>\n",
       "    </tr>\n",
       "    <tr>\n",
       "      <th>4</th>\n",
       "      <td>(name)</td>\n",
       "      <td>0.329035</td>\n",
       "    </tr>\n",
       "    <tr>\n",
       "      <th>5</th>\n",
       "      <td>(name)</td>\n",
       "      <td>0.329035</td>\n",
       "    </tr>\n",
       "    <tr>\n",
       "      <th>6</th>\n",
       "      <td>(name)</td>\n",
       "      <td>0.329035</td>\n",
       "    </tr>\n",
       "    <tr>\n",
       "      <th>7</th>\n",
       "      <td>(name)</td>\n",
       "      <td>0.329035</td>\n",
       "    </tr>\n",
       "  </tbody>\n",
       "</table>\n",
       "</div>"
      ],
      "text/plain": [
       "     node     score\n",
       "0  (name)  3.233877\n",
       "1  (name)  1.060435\n",
       "2  (name)  1.060435\n",
       "3  (name)  1.060435\n",
       "4  (name)  0.329035\n",
       "5  (name)  0.329035\n",
       "6  (name)  0.329035\n",
       "7  (name)  0.329035"
      ]
     },
     "execution_count": 4,
     "metadata": {},
     "output_type": "execute_result"
    }
   ],
   "source": [
    "streaming_query = \"\"\"\n",
    "CALL algo.pageRank.stream('Page', 'LINKS', {iterations:20, dampingFactor:0.85})\n",
    "YIELD node, score\n",
    "RETURN node,score order by score desc limit 20\n",
    "\"\"\"\n",
    "\n",
    "with driver.session() as session:\n",
    "    result = session.read_transaction(lambda tx: tx.run(streaming_query))        \n",
    "    df = pd.DataFrame([r.values() for r in result], columns=result.keys())\n",
    "\n",
    "df"
   ]
  }
 ],
 "metadata": {},
 "nbformat": 4,
 "nbformat_minor": 2
}
