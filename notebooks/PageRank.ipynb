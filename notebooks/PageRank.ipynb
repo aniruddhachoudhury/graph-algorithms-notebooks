{
 "cells": [
  {
   "cell_type": "markdown",
   "metadata": {},
   "source": [
    "# Page Rank\n",
    "PageRank is widely recognized as a way of detecting influential nodes in a graph.\n",
    "It is different to other centrality algorithms because the influence of a node depends on the influence of its neighbours.\n",
    "\n",
    "The underlying mathematics of PageRank is based on random walks on networks.\n",
    "We can think of a random walk as the way that a person might manually traverse a graph.\n",
    "We start from any node and then either follow one of its relationships to another node or jump to another node in the graph and continue our exploration.\n",
    "The PageRank of a node is the probability that it is visited during this random walk.\n",
    "More influential nodes will be visited more often.\n",
    "\n",
    "First we'll import the Neo4j driver and Pandas libraries:\n"
   ]
  },
  {
   "cell_type": "code",
   "execution_count": 1,
   "metadata": {},
   "outputs": [],
   "source": [
    "from neo4j.v1 import GraphDatabase, basic_auth\n",
    "import pandas as pd\n",
    "import os"
   ]
  },
  {
   "cell_type": "markdown",
   "metadata": {},
   "source": [
    "Next let's create an instance of the Neo4j driver which we'll use to execute our queries.\n"
   ]
  },
  {
   "cell_type": "code",
   "execution_count": 2,
   "metadata": {},
   "outputs": [],
   "source": [
    "host = os.environ.get(\"NEO4J_HOST\", \"bolt://localhost\") \n",
    "user = os.environ.get(\"NEO4J_USER\", \"neo4j\")\n",
    "password = os.environ.get(\"NEO4J_PASSWORD\", \"neo\")\n",
    "driver = GraphDatabase.driver(host, auth=basic_auth(user, password))"
   ]
  },
  {
   "cell_type": "markdown",
   "metadata": {},
   "source": [
    "Now let's create a sample graph that we'll run the algorithm against.\n"
   ]
  },
  {
   "cell_type": "code",
   "execution_count": 3,
   "metadata": {},
   "outputs": [
    {
     "name": "stdout",
     "output_type": "stream",
     "text": [
      "Stats: {'labels-added': 8, 'relationships-created': 14, 'nodes-created': 8, 'properties-set': 8}\n"
     ]
    }
   ],
   "source": [
    "create_graph_query = '''\n",
    "CREATE (home:Page{name:'Home'})\n",
    ",(about:Page{name:'About'})\n",
    ",(product:Page{name:'Product'})\n",
    ",(links:Page{name:'Links'})\n",
    ",(a:Page{name:'Site A'})\n",
    ",(b:Page{name:'Site B'})\n",
    ",(c:Page{name:'Site C'})\n",
    ",(d:Page{name:'Site D'})\n",
    "CREATE (home)-[:LINKS]->(about)\n",
    ",(about)-[:LINKS]->(home)\n",
    ",(product)-[:LINKS]->(home)\n",
    ",(home)-[:LINKS]->(product)\n",
    ",(links)-[:LINKS]->(home)\n",
    ",(home)-[:LINKS]->(links)\n",
    ",(links)-[:LINKS]->(a)-[:LINKS]->(home)\n",
    ",(links)-[:LINKS]->(b)-[:LINKS]->(home)\n",
    ",(links)-[:LINKS]->(c)-[:LINKS]->(home)\n",
    ",(links)-[:LINKS]->(d)-[:LINKS]->(home)\n",
    "'''\n",
    "\n",
    "with driver.session() as session:\n",
    "    result = session.write_transaction(lambda tx: tx.run(create_graph_query))\n",
    "    print(\"Stats: \" + str(result.consume().metadata.get(\"stats\", {})))"
   ]
  },
  {
   "cell_type": "markdown",
   "metadata": {},
   "source": [
    "Finally we can run the algorithm by executing the following query:\n"
   ]
  },
  {
   "cell_type": "code",
   "execution_count": 4,
   "metadata": {},
   "outputs": [
    {
     "data": {
      "text/html": [
       "<div>\n",
       "<style scoped>\n",
       "    .dataframe tbody tr th:only-of-type {\n",
       "        vertical-align: middle;\n",
       "    }\n",
       "\n",
       "    .dataframe tbody tr th {\n",
       "        vertical-align: top;\n",
       "    }\n",
       "\n",
       "    .dataframe thead th {\n",
       "        text-align: right;\n",
       "    }\n",
       "</style>\n",
       "<table border=\"1\" class=\"dataframe\">\n",
       "  <thead>\n",
       "    <tr style=\"text-align: right;\">\n",
       "      <th></th>\n",
       "      <th>page</th>\n",
       "      <th>score</th>\n",
       "    </tr>\n",
       "  </thead>\n",
       "  <tbody>\n",
       "    <tr>\n",
       "      <th>0</th>\n",
       "      <td>Home</td>\n",
       "      <td>3.233877</td>\n",
       "    </tr>\n",
       "    <tr>\n",
       "      <th>1</th>\n",
       "      <td>About</td>\n",
       "      <td>1.060435</td>\n",
       "    </tr>\n",
       "    <tr>\n",
       "      <th>2</th>\n",
       "      <td>Product</td>\n",
       "      <td>1.060435</td>\n",
       "    </tr>\n",
       "    <tr>\n",
       "      <th>3</th>\n",
       "      <td>Links</td>\n",
       "      <td>1.060435</td>\n",
       "    </tr>\n",
       "    <tr>\n",
       "      <th>4</th>\n",
       "      <td>Site A</td>\n",
       "      <td>0.329035</td>\n",
       "    </tr>\n",
       "    <tr>\n",
       "      <th>5</th>\n",
       "      <td>Site B</td>\n",
       "      <td>0.329035</td>\n",
       "    </tr>\n",
       "    <tr>\n",
       "      <th>6</th>\n",
       "      <td>Site C</td>\n",
       "      <td>0.329035</td>\n",
       "    </tr>\n",
       "    <tr>\n",
       "      <th>7</th>\n",
       "      <td>Site D</td>\n",
       "      <td>0.329035</td>\n",
       "    </tr>\n",
       "  </tbody>\n",
       "</table>\n",
       "</div>"
      ],
      "text/plain": [
       "      page     score\n",
       "0     Home  3.233877\n",
       "1    About  1.060435\n",
       "2  Product  1.060435\n",
       "3    Links  1.060435\n",
       "4   Site A  0.329035\n",
       "5   Site B  0.329035\n",
       "6   Site C  0.329035\n",
       "7   Site D  0.329035"
      ]
     },
     "execution_count": 4,
     "metadata": {},
     "output_type": "execute_result"
    }
   ],
   "source": [
    "streaming_query = \"\"\"\n",
    "CALL algo.pageRank.stream('Page', 'LINKS', {iterations:20, dampingFactor:0.85})\n",
    "YIELD node, score\n",
    "RETURN node.name AS page,score\n",
    "ORDER BY score DESC\n",
    "\"\"\"\n",
    "\n",
    "with driver.session() as session:\n",
    "    result = session.read_transaction(lambda tx: tx.run(streaming_query))        \n",
    "    df = pd.DataFrame([r.values() for r in result], columns=result.keys())\n",
    "\n",
    "df"
   ]
  },
  {
   "cell_type": "markdown",
   "metadata": {},
   "source": [
    "As we might expect, the Home page has the highest PageRank because it has incoming links from all other pages.\n",
    "We can also see that it's not only the number of incoming links that is important, but also the importance of the pages behind those links."
   ]
  }
 ],
 "metadata": {},
 "nbformat": 4,
 "nbformat_minor": 2
}
