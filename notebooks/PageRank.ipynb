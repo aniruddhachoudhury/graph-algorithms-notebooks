{
 "cells": [
  {
   "cell_type": "markdown",
   "metadata": {},
   "source": [
    "# Page Rank\n",
    "PageRank is widely recognized as a way of detecting influential nodes in a graph.\n",
    "It is different to other centrality algorithms because the influence of a node depends on the influence of its neighbours.\n",
    "\n",
    "The underlying mathematics of PageRank is based on random walks on networks.\n",
    "We can think of a random walk as the way that a person might manually traverse a graph.\n",
    "We start from any node and then either follow one of its relationships to another node or jump to another node in the graph and continue our exploration.\n",
    "The PageRank of a node is the probability that it is visited during this random walk.\n",
    "More influential nodes will be visited more often.\n",
    "\n",
    "First we'll import the Neo4j driver and Pandas libraries:\n"
   ]
  },
  {
   "cell_type": "code",
   "execution_count": null,
   "metadata": {},
   "outputs": [],
   "source": [
    "from neo4j.v1 import GraphDatabase, basic_auth\n",
    "import pandas as pd\n",
    "import os"
   ]
  },
  {
   "cell_type": "markdown",
   "metadata": {},
   "source": [
    "Next let's create an instance of the Neo4j driver which we'll use to execute our queries.\n"
   ]
  },
  {
   "cell_type": "code",
   "execution_count": null,
   "metadata": {},
   "outputs": [],
   "source": [
    "host = os.environ.get(\"NEO4J_HOST\", \"bolt://localhost\") \n",
    "user = os.environ.get(\"NEO4J_USER\", \"neo4j\")\n",
    "password = os.environ.get(\"NEO4J_PASSWORD\", \"neo\")\n",
    "driver = GraphDatabase.driver(host, auth=basic_auth(user, password))"
   ]
  },
  {
   "cell_type": "markdown",
   "metadata": {},
   "source": [
    "Now let's create a sample graph that we'll run the algorithm against.\n"
   ]
  },
  {
   "cell_type": "code",
   "execution_count": null,
   "metadata": {},
   "outputs": [],
   "source": [
    "create_graph_query = '''\n",
    "MERGE (home:Page {name:'Home'})\n",
    "MERGE (about:Page {name:'About'})\n",
    "MERGE (product:Page {name:'Product'})\n",
    "MERGE (links:Page {name:'Links'})\n",
    "MERGE (a:Page {name:'Site A'})\n",
    "MERGE (b:Page {name:'Site B'})\n",
    "MERGE (c:Page {name:'Site C'})\n",
    "MERGE (d:Page {name:'Site D'})\n",
    "\n",
    "MERGE (home)-[:LINKS]->(about)\n",
    "MERGE (about)-[:LINKS]->(home)\n",
    "MERGE (product)-[:LINKS]->(home)\n",
    "MERGE (home)-[:LINKS]->(product)\n",
    "MERGE (links)-[:LINKS]->(home)\n",
    "MERGE (home)-[:LINKS]->(links)\n",
    "MERGE (links)-[:LINKS]->(a)\n",
    "MERGE (a)-[:LINKS]->(home)\n",
    "MERGE (links)-[:LINKS]->(b)\n",
    "MERGE (b)-[:LINKS]->(home)\n",
    "MERGE (links)-[:LINKS]->(c)\n",
    "MERGE (c)-[:LINKS]->(home)\n",
    "MERGE (links)-[:LINKS]->(d)\n",
    "MERGE (d)-[:LINKS]->(home)\n",
    "'''\n",
    "\n",
    "with driver.session() as session:\n",
    "    result = session.write_transaction(lambda tx: tx.run(create_graph_query))\n",
    "    print(\"Stats: \" + str(result.consume().metadata.get(\"stats\", {})))"
   ]
  },
  {
   "cell_type": "markdown",
   "metadata": {},
   "source": [
    "Finally we can run the algorithm by executing the following query:\n"
   ]
  },
  {
   "cell_type": "code",
   "execution_count": null,
   "metadata": {},
   "outputs": [],
   "source": [
    "streaming_query = \"\"\"\n",
    "CALL algo.pageRank.stream('Page', 'LINKS', {iterations:20, dampingFactor:0.85})\n",
    "YIELD node, score\n",
    "RETURN node.name AS page,score\n",
    "ORDER BY score DESC\n",
    "\"\"\"\n",
    "\n",
    "with driver.session() as session:\n",
    "    result = session.read_transaction(lambda tx: tx.run(streaming_query))        \n",
    "    df = pd.DataFrame([r.values() for r in result], columns=result.keys())\n",
    "\n",
    "df"
   ]
  },
  {
   "cell_type": "markdown",
   "metadata": {},
   "source": [
    "As we might expect, the Home page has the highest PageRank because it has incoming links from all other pages.\n",
    "We can also see that it's not only the number of incoming links that is important, but also the importance of the pages behind those links."
   ]
  },
  {
   "cell_type": "code",
   "execution_count": null,
   "metadata": {},
   "outputs": [],
   "source": [
    "%%html\n",
    "<style>\n",
    ".output_wrapper, .output {\n",
    "    height:auto !important;\n",
    "    max-height:600px;\n",
    "}\n",
    ".output_scroll {\n",
    "    box-shadow:none !important;\n",
    "    webkit-box-shadow:none !important;\n",
    "}\n",
    "</style>\n"
   ]
  },
  {
   "cell_type": "code",
   "execution_count": null,
   "metadata": {},
   "outputs": [],
   "source": [
    "from scripts.vis import generate_vis\n",
    "\n",
    "query = \"MATCH (p1:Page)-[r:LINKS]->(p2:Page) RETURN *\"\n",
    "labels_json = {'Page': {'caption': 'name', 'size': 'pagerank'}}\n",
    "relationships_json = {'LINKS': {'thickness': 'weight', 'caption': False}}\n",
    "\n",
    "generate_vis(host, user, password, query, labels_json, relationships_json)\n"
   ]
  }
 ],
 "metadata": {},
 "nbformat": 4,
 "nbformat_minor": 2
}
