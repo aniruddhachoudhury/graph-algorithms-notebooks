{
 "cells": [
  {
   "cell_type": "markdown",
   "metadata": {},
   "source": [
    "# Strongly Connected Components\n",
    "The _Strongly Connected Components_ (SCC) algorithm finds sets of connected nodes in a directed graph where each node is reachable in both directions from any other node in the same set.\n",
    "It is often used early in a graph analysis process to help us get an idea of how our graph is structured.\n",
    "\n",
    "First we'll import the Neo4j driver and Pandas libraries:\n"
   ]
  },
  {
   "cell_type": "code",
   "execution_count": null,
   "metadata": {},
   "outputs": [],
   "source": [
    "from neo4j.v1 import GraphDatabase, basic_auth\n",
    "import pandas as pd\n",
    "import os"
   ]
  },
  {
   "cell_type": "markdown",
   "metadata": {},
   "source": [
    "Next let's create an instance of the Neo4j driver which we'll use to execute our queries.\n"
   ]
  },
  {
   "cell_type": "code",
   "execution_count": null,
   "metadata": {},
   "outputs": [],
   "source": [
    "host = os.environ.get(\"NEO4J_HOST\", \"bolt://localhost\") \n",
    "user = os.environ.get(\"NEO4J_USER\", \"neo4j\")\n",
    "password = os.environ.get(\"NEO4J_PASSWORD\", \"neo\")\n",
    "driver = GraphDatabase.driver(host, auth=basic_auth(user, password))"
   ]
  },
  {
   "cell_type": "markdown",
   "metadata": {},
   "source": [
    "Now let's create a sample graph that we'll run the algorithm against.\n"
   ]
  },
  {
   "cell_type": "code",
   "execution_count": null,
   "metadata": {},
   "outputs": [],
   "source": [
    "create_graph_query = '''\n",
    "MERGE (nAlice:User {id:'Alice'})\n",
    "MERGE (nBridget:User {id:'Bridget'})\n",
    "MERGE (nCharles:User {id:'Charles'})\n",
    "MERGE (nDoug:User {id:'Doug'})\n",
    "MERGE (nMark:User {id:'Mark'})\n",
    "MERGE (nMichael:User {id:'Michael'})\n",
    "\n",
    "MERGE (nAlice)-[:FOLLOW]->(nBridget)\n",
    "MERGE (nAlice)-[:FOLLOW]->(nCharles)\n",
    "MERGE (nMark)-[:FOLLOW]->(nDoug)\n",
    "MERGE (nMark)-[:FOLLOW]->(nMichael)\n",
    "MERGE (nBridget)-[:FOLLOW]->(nMichael)\n",
    "MERGE (nDoug)-[:FOLLOW]->(nMark)\n",
    "MERGE (nMichael)-[:FOLLOW]->(nAlice)\n",
    "MERGE (nAlice)-[:FOLLOW]->(nMichael)\n",
    "MERGE (nBridget)-[:FOLLOW]->(nAlice)\n",
    "MERGE (nMichael)-[:FOLLOW]->(nBridget);\n",
    "'''\n",
    "\n",
    "with driver.session() as session:\n",
    "    result = session.write_transaction(lambda tx: tx.run(create_graph_query))\n",
    "    print(\"Stats: \" + str(result.consume().metadata.get(\"stats\", {})))"
   ]
  },
  {
   "cell_type": "markdown",
   "metadata": {},
   "source": [
    "Finally we can run the algorithm by executing the following query:\n"
   ]
  },
  {
   "cell_type": "code",
   "execution_count": null,
   "metadata": {},
   "outputs": [],
   "source": [
    "streaming_query = \"\"\"\n",
    "CALL algo.scc.stream('User','FOLLOW')\n",
    "YIELD nodeId, partition\n",
    "MATCH (u:User) WHERE id(u) = nodeId\n",
    "RETURN u.id AS name, partition\n",
    "\"\"\"\n",
    "\n",
    "with driver.session() as session:\n",
    "    result = session.read_transaction(lambda tx: tx.run(streaming_query))        \n",
    "    df = pd.DataFrame([r.values() for r in result], columns=result.keys())\n",
    "\n",
    "df"
   ]
  },
  {
   "cell_type": "markdown",
   "metadata": {},
   "source": [
    "We have 3 strongly connected components in our sample graph.\n",
    "The first and biggest component has members Alice, Bridget, and Michael, while the second component has Doug and Mark.\n",
    "Charles ends up in his own component becuase there isn't an outgoing relationship from that node to any of the others."
   ]
  },
  {
   "cell_type": "markdown",
   "metadata": {},
   "source": [
    "We can also call a version of the algorithm that will store the result as a property on a\n",
    "node. This is useful if we want to run future queries that use the result."
   ]
  },
  {
   "cell_type": "code",
   "execution_count": null,
   "metadata": {},
   "outputs": [],
   "source": [
    "write_query = \"\"\"\n",
    "CALL algo.scc('User','FOLLOW', {write:true,partitionProperty:'partition'})\n",
    "YIELD loadMillis, computeMillis, writeMillis, setCount, maxSetSize, minSetSize;\n",
    "\"\"\"\n",
    "\n",
    "with driver.session() as session:\n",
    "    session.write_transaction(lambda tx: tx.run(write_query))"
   ]
  },
  {
   "cell_type": "markdown",
   "metadata": {},
   "source": [
    "## Graph Visualisation\n",
    "\n",
    "Sometimes a picture can tell more than a table of results and this is often the case with graph algorithms. \n",
    "Let's see how to create a graph visualization using neovis.js.\n",
    "\n",
    "First we'll create a div into which we will generate the visualisation."
   ]
  },
  {
   "cell_type": "code",
   "execution_count": null,
   "metadata": {},
   "outputs": [],
   "source": [
    "%%html\n",
    "<style type=\"text/css\">                \n",
    ".output_wrapper, .output {\n",
    "    height:auto !important;\n",
    "    max-height:600px;\n",
    "}\n",
    ".output_scroll {\n",
    "    box-shadow:none !important;\n",
    "    webkit-box-shadow:none !important;\n",
    "}\n",
    "\n",
    "#viz {\n",
    "    width: 300px;\n",
    "    height: 350px;\n",
    "    font: 22pt arial;\n",
    "}\n",
    "</style>  \n",
    "<div id=\"viz\"></div>"
   ]
  },
  {
   "cell_type": "markdown",
   "metadata": {},
   "source": [
    "Next we need to define the query that the visualization will be generated from, along with config \n",
    "that describes which properties will be used for node size, node colour, and relationship width. \n",
    "\n",
    "We'll then define a JavaScript variable that contains all our parameters."
   ]
  },
  {
   "cell_type": "code",
   "execution_count": null,
   "metadata": {},
   "outputs": [],
   "source": [
    "from IPython.core.display import Javascript\n",
    "import json\n",
    "from scripts.algo import viz_config, render_image\n",
    "\n",
    "config = viz_config(\"Strongly Connected Components\")\n",
    "query = config[\"query\"]\n",
    "labels_json = config[\"labels_json\"]\n",
    "relationships_json = config[\"relationships_json\"]\n",
    "\n",
    "json_graph = {\n",
    "    \"query\": query,\n",
    "    \"labels\": labels_json,\n",
    "    \"relationships\": relationships_json,\n",
    "    \"host\": host,\n",
    "    \"user\": user,\n",
    "    \"password\": password\n",
    "}\n",
    "\n",
    "Javascript(\"\"\"window.jsonGraph={};\"\"\".format(json.dumps(json_graph)))"
   ]
  },
  {
   "cell_type": "markdown",
   "metadata": {},
   "source": [
    "Now we're ready to call neovis.js and generate our graph visualisation. \n",
    "The following code will create an interactive graph into the div defined above.\n",
    "It will also extract an image representation of the graph and display that in the cell below."
   ]
  },
  {
   "cell_type": "code",
   "execution_count": null,
   "metadata": {},
   "outputs": [],
   "source": [
    "%%javascript\n",
    "var output_area = this;\n",
    "requirejs(['neovis.js'], function(NeoVis){    \n",
    "    var config = {\n",
    "      container_id: \"viz\",\n",
    "      server_url: window.jsonGraph.host,\n",
    "      server_user: window.jsonGraph.user,\n",
    "      server_password: window.jsonGraph.password,\n",
    "      labels: window.jsonGraph.labels,\n",
    "      relationships: window.jsonGraph.relationships,\n",
    "      initial_cypher: window.jsonGraph.query\n",
    "    };\n",
    "        \n",
    "    let viz = new NeoVis.default(config);\n",
    "    viz.render();\n",
    "    \n",
    "    viz.onVisualizationRendered(function(ctx) {\n",
    "      let imageSrc = ctx.canvas.toDataURL();\n",
    "      let kernel = IPython.notebook.kernel;\n",
    "      let command = \"image_src = '\" + imageSrc + \"'\";\n",
    "      kernel.execute(command);\n",
    "      \n",
    "      var cell_element = output_area.element.parents('.cell');\n",
    "      var cell_idx = Jupyter.notebook.get_cell_elements().index(cell_element);\n",
    "      var cell = Jupyter.notebook.get_cell(cell_idx+1);\n",
    "      cell.set_text(\"render_image(image_src)\")\n",
    "      cell.execute();\n",
    "    });\n",
    "});"
   ]
  },
  {
   "cell_type": "code",
   "execution_count": null,
   "metadata": {},
   "outputs": [],
   "source": []
  }
 ],
 "metadata": {},
 "nbformat": 4,
 "nbformat_minor": 2
}
